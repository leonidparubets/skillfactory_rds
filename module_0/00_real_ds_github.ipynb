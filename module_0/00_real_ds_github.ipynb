{
 "cells": [
  {
   "cell_type": "markdown",
   "metadata": {},
   "source": [
    "Игра построена на двух функциях.\n",
    "Первая функция: \n",
    "- ввод рандом числа от компьютера\n",
    "- ввод рандом числа от игрока\n",
    "- сравнение чисел\n",
    "- при компьюторном числе больше человеческого, человеческое увеличивается на 5, при обратном исходе, уменьшается на 4\n",
    "- при равенстве числе цикл заканчивается, число попыток фиксируется\n",
    "\n",
    "Вторая функция:\n",
    "- прогоняет первую функцию 1000 раз\n",
    "- фиксирует кол-во попыток в список\n",
    "- возвращает среднее кол-во шагов"
   ]
  },
  {
   "cell_type": "code",
   "execution_count": null,
   "metadata": {},
   "outputs": [],
   "source": [
    "import random \n",
    "from random import randint\n",
    "\n",
    "otvet = []\n",
    "\n",
    "def igra():\n",
    "    cheloveck = random.randint(0,100)\n",
    "    computer = random.randint(0,100)\n",
    "    count=0\n",
    "    cheloveck_1=cheloveck\n",
    "    \n",
    "    while True:\n",
    "        count+=1\n",
    "        if cheloveck_1 > computer: cheloveck_1-=4\n",
    "        elif cheloveck_1 < computer: cheloveck_1+=5\n",
    "        else:\n",
    "            #print(f'Число {computer} человек отгадал за {count} попыток')\n",
    "            break\n",
    "    return count\n",
    "\n",
    "def itog(igra):\n",
    "    for i in range (1000):\n",
    "        z = igra()\n",
    "        otvet.append(z)\n",
    "    return round(sum(otvet)/len(otvet))\n",
    "\n",
    "itog(igra)"
   ]
  },
  {
   "cell_type": "markdown",
   "metadata": {},
   "source": [
    "# Итог: среднее количество попыток 12"
   ]
  },
  {
   "cell_type": "code",
   "execution_count": null,
   "metadata": {},
   "outputs": [],
   "source": []
  }
 ],
 "metadata": {
  "kernelspec": {
   "display_name": "Python 3",
   "language": "python",
   "name": "python3"
  },
  "language_info": {
   "codemirror_mode": {
    "name": "ipython",
    "version": 3
   },
   "file_extension": ".py",
   "mimetype": "text/x-python",
   "name": "python",
   "nbconvert_exporter": "python",
   "pygments_lexer": "ipython3",
   "version": "3.7.4"
  }
 },
 "nbformat": 4,
 "nbformat_minor": 2
}
