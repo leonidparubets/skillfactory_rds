{
 "cells": [
  {
   "cell_type": "markdown",
   "metadata": {},
   "source": [
    "![](https://www.pata.org/wp-content/uploads/2014/09/TripAdvisor_Logo-300x119.png)\n",
    "# Predict TripAdvisor Rating\n",
    "## В этом соревновании нам предстоит предсказать рейтинг ресторана в TripAdvisor\n",
    "**По ходу задачи:**\n",
    "* Прокачаем работу с pandas\n",
    "* Научимся работать с Kaggle Notebooks\n",
    "* Поймем как делать предобработку различных данных\n",
    "* Научимся работать с пропущенными данными (Nan)\n",
    "* Познакомимся с различными видами кодирования признаков\n",
    "* Немного попробуем [Feature Engineering](https://ru.wikipedia.org/wiki/Конструирование_признаков) (генерировать новые признаки)\n",
    "* И совсем немного затронем ML\n",
    "* И многое другое...   \n",
    "\n",
    "\n",
    "\n",
    "### И самое важное, все это вы сможете сделать самостоятельно!\n",
    "\n",
    "*Этот Ноутбук являетсся Примером/Шаблоном к этому соревнованию (Baseline) и не служит готовым решением!*   \n",
    "Вы можете использовать его как основу для построения своего решения.\n",
    "\n",
    "> что такое baseline решение, зачем оно нужно и почему предоставлять baseline к соревнованию стало важным стандартом на kaggle и других площадках.   \n",
    "**baseline** создается больше как шаблон, где можно посмотреть как происходит обращение с входящими данными и что нужно получить на выходе. При этом МЛ начинка может быть достаточно простой, просто для примера. Это помогает быстрее приступить к самому МЛ, а не тратить ценное время на чисто инженерные задачи. \n",
    "Также baseline являеться хорошей опорной точкой по метрике. Если твое решение хуже baseline - ты явно делаешь что-то не то и стоит попробовать другой путь) \n",
    "\n",
    "В контексте нашего соревнования baseline идет с небольшими примерами того, что можно делать с данными, и с инструкцией, что делать дальше, чтобы улучшить результат.  Вообще готовым решением это сложно назвать, так как используются всего 2 самых простых признака (а остальные исключаются)."
   ]
  },
  {
   "cell_type": "markdown",
   "metadata": {},
   "source": [
    "# import"
   ]
  },
  {
   "cell_type": "code",
   "execution_count": 1,
   "metadata": {
    "_cell_guid": "b1076dfc-b9ad-4769-8c92-a6c4dae69d19",
    "_uuid": "8f2839f25d086af736a60e9eeb907d3b93b6e0e5"
   },
   "outputs": [
    {
     "name": "stdout",
     "output_type": "stream",
     "text": [
      "/kaggle/input/sf-dst-restaurant-rating/kaggle_task.csv\n",
      "/kaggle/input/sf-dst-restaurant-rating/main_task.csv\n",
      "/kaggle/input/sf-dst-restaurant-rating/sample_submission.csv\n"
     ]
    }
   ],
   "source": [
    "# This Python 3 environment comes with many helpful analytics libraries installed\n",
    "# It is defined by the kaggle/python docker image: https://github.com/kaggle/docker-python\n",
    "# For example, here's several helpful packages to load in \n",
    "\n",
    "import numpy as np # linear algebra\n",
    "import pandas as pd # data processing, CSV file I/O (e.g. pd.read_csv)\n",
    "\n",
    "import matplotlib.pyplot as plt\n",
    "import seaborn as sns \n",
    "%matplotlib inline\n",
    "\n",
    "# Загружаем специальный удобный инструмент для разделения датасета:\n",
    "from sklearn.model_selection import train_test_split\n",
    "\n",
    "# Input data files are available in the \"../input/\" directory.\n",
    "# For example, running this (by clicking run or pressing Shift+Enter) will list all files under the input directory\n",
    "\n",
    "import os\n",
    "for dirname, _, filenames in os.walk('/kaggle/input'):\n",
    "    for filename in filenames:\n",
    "        print(os.path.join(dirname, filename))\n",
    "\n",
    "# Any results you write to the current directory are saved as output."
   ]
  },
  {
   "cell_type": "code",
   "execution_count": 2,
   "metadata": {},
   "outputs": [],
   "source": [
    "# всегда фиксируйте RANDOM_SEED, чтобы ваши эксперименты были воспроизводимы!\n",
    "RANDOM_SEED = 42"
   ]
  },
  {
   "cell_type": "code",
   "execution_count": 3,
   "metadata": {},
   "outputs": [],
   "source": [
    "# зафиксируем версию пакетов, чтобы эксперименты были воспроизводимы:\n",
    "!pip freeze > requirements.txt"
   ]
  },
  {
   "cell_type": "markdown",
   "metadata": {},
   "source": [
    "# DATA"
   ]
  },
  {
   "cell_type": "code",
   "execution_count": 4,
   "metadata": {
    "_cell_guid": "79c7e3d0-c299-4dcb-8224-4455121ee9b0",
    "_uuid": "d629ff2d2480ee46fbb7e2d37f6b5fab8052498a"
   },
   "outputs": [],
   "source": [
    "DATA_DIR = '/kaggle/input/sf-dst-restaurant-rating/'\n",
    "df_train = pd.read_csv(DATA_DIR+'/main_task.csv')\n",
    "df_test = pd.read_csv(DATA_DIR+'kaggle_task.csv')\n",
    "sample_submission = pd.read_csv(DATA_DIR+'/sample_submission.csv')"
   ]
  },
  {
   "cell_type": "code",
   "execution_count": 5,
   "metadata": {},
   "outputs": [
    {
     "name": "stdout",
     "output_type": "stream",
     "text": [
      "<class 'pandas.core.frame.DataFrame'>\n",
      "RangeIndex: 40000 entries, 0 to 39999\n",
      "Data columns (total 10 columns):\n",
      "Restaurant_id        40000 non-null object\n",
      "City                 40000 non-null object\n",
      "Cuisine Style        30717 non-null object\n",
      "Ranking              40000 non-null float64\n",
      "Rating               40000 non-null float64\n",
      "Price Range          26114 non-null object\n",
      "Number of Reviews    37457 non-null float64\n",
      "Reviews              40000 non-null object\n",
      "URL_TA               40000 non-null object\n",
      "ID_TA                40000 non-null object\n",
      "dtypes: float64(3), object(7)\n",
      "memory usage: 3.1+ MB\n"
     ]
    }
   ],
   "source": [
    "df_train.info()"
   ]
  },
  {
   "cell_type": "code",
   "execution_count": 6,
   "metadata": {},
   "outputs": [
    {
     "data": {
      "text/html": [
       "<div>\n",
       "<style scoped>\n",
       "    .dataframe tbody tr th:only-of-type {\n",
       "        vertical-align: middle;\n",
       "    }\n",
       "\n",
       "    .dataframe tbody tr th {\n",
       "        vertical-align: top;\n",
       "    }\n",
       "\n",
       "    .dataframe thead th {\n",
       "        text-align: right;\n",
       "    }\n",
       "</style>\n",
       "<table border=\"1\" class=\"dataframe\">\n",
       "  <thead>\n",
       "    <tr style=\"text-align: right;\">\n",
       "      <th></th>\n",
       "      <th>Restaurant_id</th>\n",
       "      <th>City</th>\n",
       "      <th>Cuisine Style</th>\n",
       "      <th>Ranking</th>\n",
       "      <th>Rating</th>\n",
       "      <th>Price Range</th>\n",
       "      <th>Number of Reviews</th>\n",
       "      <th>Reviews</th>\n",
       "      <th>URL_TA</th>\n",
       "      <th>ID_TA</th>\n",
       "    </tr>\n",
       "  </thead>\n",
       "  <tbody>\n",
       "    <tr>\n",
       "      <th>0</th>\n",
       "      <td>id_5569</td>\n",
       "      <td>Paris</td>\n",
       "      <td>['European', 'French', 'International']</td>\n",
       "      <td>5570.0</td>\n",
       "      <td>3.5</td>\n",
       "      <td>$$ - $$$</td>\n",
       "      <td>194.0</td>\n",
       "      <td>[['Good food at your doorstep', 'A good hotel ...</td>\n",
       "      <td>/Restaurant_Review-g187147-d1912643-Reviews-R_...</td>\n",
       "      <td>d1912643</td>\n",
       "    </tr>\n",
       "    <tr>\n",
       "      <th>1</th>\n",
       "      <td>id_1535</td>\n",
       "      <td>Stockholm</td>\n",
       "      <td>NaN</td>\n",
       "      <td>1537.0</td>\n",
       "      <td>4.0</td>\n",
       "      <td>NaN</td>\n",
       "      <td>10.0</td>\n",
       "      <td>[['Unique cuisine', 'Delicious Nepalese food']...</td>\n",
       "      <td>/Restaurant_Review-g189852-d7992032-Reviews-Bu...</td>\n",
       "      <td>d7992032</td>\n",
       "    </tr>\n",
       "    <tr>\n",
       "      <th>2</th>\n",
       "      <td>id_352</td>\n",
       "      <td>London</td>\n",
       "      <td>['Japanese', 'Sushi', 'Asian', 'Grill', 'Veget...</td>\n",
       "      <td>353.0</td>\n",
       "      <td>4.5</td>\n",
       "      <td>$$$$</td>\n",
       "      <td>688.0</td>\n",
       "      <td>[['Catch up with friends', 'Not exceptional'],...</td>\n",
       "      <td>/Restaurant_Review-g186338-d8632781-Reviews-RO...</td>\n",
       "      <td>d8632781</td>\n",
       "    </tr>\n",
       "    <tr>\n",
       "      <th>3</th>\n",
       "      <td>id_3456</td>\n",
       "      <td>Berlin</td>\n",
       "      <td>NaN</td>\n",
       "      <td>3458.0</td>\n",
       "      <td>5.0</td>\n",
       "      <td>NaN</td>\n",
       "      <td>3.0</td>\n",
       "      <td>[[], []]</td>\n",
       "      <td>/Restaurant_Review-g187323-d1358776-Reviews-Es...</td>\n",
       "      <td>d1358776</td>\n",
       "    </tr>\n",
       "    <tr>\n",
       "      <th>4</th>\n",
       "      <td>id_615</td>\n",
       "      <td>Munich</td>\n",
       "      <td>['German', 'Central European', 'Vegetarian Fri...</td>\n",
       "      <td>621.0</td>\n",
       "      <td>4.0</td>\n",
       "      <td>$$ - $$$</td>\n",
       "      <td>84.0</td>\n",
       "      <td>[['Best place to try a Bavarian food', 'Nice b...</td>\n",
       "      <td>/Restaurant_Review-g187309-d6864963-Reviews-Au...</td>\n",
       "      <td>d6864963</td>\n",
       "    </tr>\n",
       "  </tbody>\n",
       "</table>\n",
       "</div>"
      ],
      "text/plain": [
       "  Restaurant_id       City                                      Cuisine Style  \\\n",
       "0       id_5569      Paris            ['European', 'French', 'International']   \n",
       "1       id_1535  Stockholm                                                NaN   \n",
       "2        id_352     London  ['Japanese', 'Sushi', 'Asian', 'Grill', 'Veget...   \n",
       "3       id_3456     Berlin                                                NaN   \n",
       "4        id_615     Munich  ['German', 'Central European', 'Vegetarian Fri...   \n",
       "\n",
       "   Ranking  Rating Price Range  Number of Reviews  \\\n",
       "0   5570.0     3.5    $$ - $$$              194.0   \n",
       "1   1537.0     4.0         NaN               10.0   \n",
       "2    353.0     4.5        $$$$              688.0   \n",
       "3   3458.0     5.0         NaN                3.0   \n",
       "4    621.0     4.0    $$ - $$$               84.0   \n",
       "\n",
       "                                             Reviews  \\\n",
       "0  [['Good food at your doorstep', 'A good hotel ...   \n",
       "1  [['Unique cuisine', 'Delicious Nepalese food']...   \n",
       "2  [['Catch up with friends', 'Not exceptional'],...   \n",
       "3                                           [[], []]   \n",
       "4  [['Best place to try a Bavarian food', 'Nice b...   \n",
       "\n",
       "                                              URL_TA     ID_TA  \n",
       "0  /Restaurant_Review-g187147-d1912643-Reviews-R_...  d1912643  \n",
       "1  /Restaurant_Review-g189852-d7992032-Reviews-Bu...  d7992032  \n",
       "2  /Restaurant_Review-g186338-d8632781-Reviews-RO...  d8632781  \n",
       "3  /Restaurant_Review-g187323-d1358776-Reviews-Es...  d1358776  \n",
       "4  /Restaurant_Review-g187309-d6864963-Reviews-Au...  d6864963  "
      ]
     },
     "execution_count": 6,
     "metadata": {},
     "output_type": "execute_result"
    }
   ],
   "source": [
    "df_train.head(5)"
   ]
  },
  {
   "cell_type": "code",
   "execution_count": 7,
   "metadata": {},
   "outputs": [
    {
     "name": "stdout",
     "output_type": "stream",
     "text": [
      "<class 'pandas.core.frame.DataFrame'>\n",
      "RangeIndex: 10000 entries, 0 to 9999\n",
      "Data columns (total 9 columns):\n",
      "Restaurant_id        10000 non-null object\n",
      "City                 10000 non-null object\n",
      "Cuisine Style        7693 non-null object\n",
      "Ranking              10000 non-null float64\n",
      "Price Range          6525 non-null object\n",
      "Number of Reviews    9343 non-null float64\n",
      "Reviews              9998 non-null object\n",
      "URL_TA               10000 non-null object\n",
      "ID_TA                10000 non-null object\n",
      "dtypes: float64(2), object(7)\n",
      "memory usage: 703.2+ KB\n"
     ]
    }
   ],
   "source": [
    "df_test.info()"
   ]
  },
  {
   "cell_type": "code",
   "execution_count": 8,
   "metadata": {},
   "outputs": [
    {
     "data": {
      "text/html": [
       "<div>\n",
       "<style scoped>\n",
       "    .dataframe tbody tr th:only-of-type {\n",
       "        vertical-align: middle;\n",
       "    }\n",
       "\n",
       "    .dataframe tbody tr th {\n",
       "        vertical-align: top;\n",
       "    }\n",
       "\n",
       "    .dataframe thead th {\n",
       "        text-align: right;\n",
       "    }\n",
       "</style>\n",
       "<table border=\"1\" class=\"dataframe\">\n",
       "  <thead>\n",
       "    <tr style=\"text-align: right;\">\n",
       "      <th></th>\n",
       "      <th>Restaurant_id</th>\n",
       "      <th>City</th>\n",
       "      <th>Cuisine Style</th>\n",
       "      <th>Ranking</th>\n",
       "      <th>Price Range</th>\n",
       "      <th>Number of Reviews</th>\n",
       "      <th>Reviews</th>\n",
       "      <th>URL_TA</th>\n",
       "      <th>ID_TA</th>\n",
       "    </tr>\n",
       "  </thead>\n",
       "  <tbody>\n",
       "    <tr>\n",
       "      <th>0</th>\n",
       "      <td>id_0</td>\n",
       "      <td>Paris</td>\n",
       "      <td>['Bar', 'Pub']</td>\n",
       "      <td>12963.0</td>\n",
       "      <td>$$ - $$$</td>\n",
       "      <td>4.0</td>\n",
       "      <td>[[], []]</td>\n",
       "      <td>/Restaurant_Review-g187147-d10746918-Reviews-L...</td>\n",
       "      <td>d10746918</td>\n",
       "    </tr>\n",
       "    <tr>\n",
       "      <th>1</th>\n",
       "      <td>id_1</td>\n",
       "      <td>Helsinki</td>\n",
       "      <td>['European', 'Scandinavian', 'Gluten Free Opti...</td>\n",
       "      <td>106.0</td>\n",
       "      <td>$$ - $$$</td>\n",
       "      <td>97.0</td>\n",
       "      <td>[['Very good reviews!', 'Fine dining in Hakani...</td>\n",
       "      <td>/Restaurant_Review-g189934-d6674944-Reviews-Ra...</td>\n",
       "      <td>d6674944</td>\n",
       "    </tr>\n",
       "    <tr>\n",
       "      <th>2</th>\n",
       "      <td>id_2</td>\n",
       "      <td>Edinburgh</td>\n",
       "      <td>['Vegetarian Friendly']</td>\n",
       "      <td>810.0</td>\n",
       "      <td>$$ - $$$</td>\n",
       "      <td>28.0</td>\n",
       "      <td>[['Better than the Links', 'Ivy Black'], ['12/...</td>\n",
       "      <td>/Restaurant_Review-g186525-d13129638-Reviews-B...</td>\n",
       "      <td>d13129638</td>\n",
       "    </tr>\n",
       "    <tr>\n",
       "      <th>3</th>\n",
       "      <td>id_3</td>\n",
       "      <td>London</td>\n",
       "      <td>['Italian', 'Mediterranean', 'European', 'Vege...</td>\n",
       "      <td>1669.0</td>\n",
       "      <td>$$$$</td>\n",
       "      <td>202.0</td>\n",
       "      <td>[['Most exquisite', 'Delicious and authentic']...</td>\n",
       "      <td>/Restaurant_Review-g186338-d680417-Reviews-Qui...</td>\n",
       "      <td>d680417</td>\n",
       "    </tr>\n",
       "    <tr>\n",
       "      <th>4</th>\n",
       "      <td>id_4</td>\n",
       "      <td>Bratislava</td>\n",
       "      <td>['Italian', 'Mediterranean', 'European', 'Seaf...</td>\n",
       "      <td>37.0</td>\n",
       "      <td>$$$$</td>\n",
       "      <td>162.0</td>\n",
       "      <td>[['Always the best in bratislava', 'Very good ...</td>\n",
       "      <td>/Restaurant_Review-g274924-d1112354-Reviews-Ma...</td>\n",
       "      <td>d1112354</td>\n",
       "    </tr>\n",
       "  </tbody>\n",
       "</table>\n",
       "</div>"
      ],
      "text/plain": [
       "  Restaurant_id        City  \\\n",
       "0          id_0       Paris   \n",
       "1          id_1    Helsinki   \n",
       "2          id_2   Edinburgh   \n",
       "3          id_3      London   \n",
       "4          id_4  Bratislava   \n",
       "\n",
       "                                       Cuisine Style  Ranking Price Range  \\\n",
       "0                                     ['Bar', 'Pub']  12963.0    $$ - $$$   \n",
       "1  ['European', 'Scandinavian', 'Gluten Free Opti...    106.0    $$ - $$$   \n",
       "2                            ['Vegetarian Friendly']    810.0    $$ - $$$   \n",
       "3  ['Italian', 'Mediterranean', 'European', 'Vege...   1669.0        $$$$   \n",
       "4  ['Italian', 'Mediterranean', 'European', 'Seaf...     37.0        $$$$   \n",
       "\n",
       "   Number of Reviews                                            Reviews  \\\n",
       "0                4.0                                           [[], []]   \n",
       "1               97.0  [['Very good reviews!', 'Fine dining in Hakani...   \n",
       "2               28.0  [['Better than the Links', 'Ivy Black'], ['12/...   \n",
       "3              202.0  [['Most exquisite', 'Delicious and authentic']...   \n",
       "4              162.0  [['Always the best in bratislava', 'Very good ...   \n",
       "\n",
       "                                              URL_TA      ID_TA  \n",
       "0  /Restaurant_Review-g187147-d10746918-Reviews-L...  d10746918  \n",
       "1  /Restaurant_Review-g189934-d6674944-Reviews-Ra...   d6674944  \n",
       "2  /Restaurant_Review-g186525-d13129638-Reviews-B...  d13129638  \n",
       "3  /Restaurant_Review-g186338-d680417-Reviews-Qui...    d680417  \n",
       "4  /Restaurant_Review-g274924-d1112354-Reviews-Ma...   d1112354  "
      ]
     },
     "execution_count": 8,
     "metadata": {},
     "output_type": "execute_result"
    }
   ],
   "source": [
    "df_test.head(5)"
   ]
  },
  {
   "cell_type": "code",
   "execution_count": 9,
   "metadata": {},
   "outputs": [
    {
     "data": {
      "text/html": [
       "<div>\n",
       "<style scoped>\n",
       "    .dataframe tbody tr th:only-of-type {\n",
       "        vertical-align: middle;\n",
       "    }\n",
       "\n",
       "    .dataframe tbody tr th {\n",
       "        vertical-align: top;\n",
       "    }\n",
       "\n",
       "    .dataframe thead th {\n",
       "        text-align: right;\n",
       "    }\n",
       "</style>\n",
       "<table border=\"1\" class=\"dataframe\">\n",
       "  <thead>\n",
       "    <tr style=\"text-align: right;\">\n",
       "      <th></th>\n",
       "      <th>Restaurant_id</th>\n",
       "      <th>Rating</th>\n",
       "    </tr>\n",
       "  </thead>\n",
       "  <tbody>\n",
       "    <tr>\n",
       "      <th>0</th>\n",
       "      <td>id_0</td>\n",
       "      <td>2.0</td>\n",
       "    </tr>\n",
       "    <tr>\n",
       "      <th>1</th>\n",
       "      <td>id_1</td>\n",
       "      <td>2.5</td>\n",
       "    </tr>\n",
       "    <tr>\n",
       "      <th>2</th>\n",
       "      <td>id_2</td>\n",
       "      <td>4.0</td>\n",
       "    </tr>\n",
       "    <tr>\n",
       "      <th>3</th>\n",
       "      <td>id_3</td>\n",
       "      <td>1.0</td>\n",
       "    </tr>\n",
       "    <tr>\n",
       "      <th>4</th>\n",
       "      <td>id_4</td>\n",
       "      <td>4.0</td>\n",
       "    </tr>\n",
       "  </tbody>\n",
       "</table>\n",
       "</div>"
      ],
      "text/plain": [
       "  Restaurant_id  Rating\n",
       "0          id_0     2.0\n",
       "1          id_1     2.5\n",
       "2          id_2     4.0\n",
       "3          id_3     1.0\n",
       "4          id_4     4.0"
      ]
     },
     "execution_count": 9,
     "metadata": {},
     "output_type": "execute_result"
    }
   ],
   "source": [
    "sample_submission.head(5)"
   ]
  },
  {
   "cell_type": "code",
   "execution_count": 10,
   "metadata": {},
   "outputs": [
    {
     "name": "stdout",
     "output_type": "stream",
     "text": [
      "<class 'pandas.core.frame.DataFrame'>\n",
      "RangeIndex: 10000 entries, 0 to 9999\n",
      "Data columns (total 2 columns):\n",
      "Restaurant_id    10000 non-null object\n",
      "Rating           10000 non-null float64\n",
      "dtypes: float64(1), object(1)\n",
      "memory usage: 156.4+ KB\n"
     ]
    }
   ],
   "source": [
    "sample_submission.info()"
   ]
  },
  {
   "cell_type": "code",
   "execution_count": 11,
   "metadata": {},
   "outputs": [],
   "source": [
    "# ВАЖНО! дря корректной обработки признаков объединяем трейн и тест в один датасет\n",
    "df_train['sample'] = 1 # помечаем где у нас трейн\n",
    "df_test['sample'] = 0 # помечаем где у нас тест\n",
    "df_test['Rating'] = 0 # в тесте у нас нет значения Rating, мы его должны предсказать, по этому пока просто заполняем нулями\n",
    "\n",
    "data = df_test.append(df_train, sort=False).reset_index(drop=True) # объединяем"
   ]
  },
  {
   "cell_type": "code",
   "execution_count": 12,
   "metadata": {},
   "outputs": [
    {
     "name": "stdout",
     "output_type": "stream",
     "text": [
      "<class 'pandas.core.frame.DataFrame'>\n",
      "RangeIndex: 50000 entries, 0 to 49999\n",
      "Data columns (total 11 columns):\n",
      "Restaurant_id        50000 non-null object\n",
      "City                 50000 non-null object\n",
      "Cuisine Style        38410 non-null object\n",
      "Ranking              50000 non-null float64\n",
      "Price Range          32639 non-null object\n",
      "Number of Reviews    46800 non-null float64\n",
      "Reviews              49998 non-null object\n",
      "URL_TA               50000 non-null object\n",
      "ID_TA                50000 non-null object\n",
      "sample               50000 non-null int64\n",
      "Rating               50000 non-null float64\n",
      "dtypes: float64(3), int64(1), object(7)\n",
      "memory usage: 4.2+ MB\n"
     ]
    }
   ],
   "source": [
    "data.info()"
   ]
  },
  {
   "cell_type": "markdown",
   "metadata": {},
   "source": [
    "Подробнее по признакам:\n",
    "* City: Город \n",
    "* Cuisine Style: Кухня\n",
    "* Ranking: Ранг ресторана относительно других ресторанов в этом городе\n",
    "* Price Range: Цены в ресторане в 3 категориях\n",
    "* Number of Reviews: Количество отзывов\n",
    "* Reviews: 2 последних отзыва и даты этих отзывов\n",
    "* URL_TA: страница ресторана на 'www.tripadvisor.com' \n",
    "* ID_TA: ID ресторана в TripAdvisor\n",
    "* Rating: Рейтинг ресторана"
   ]
  },
  {
   "cell_type": "code",
   "execution_count": 13,
   "metadata": {},
   "outputs": [
    {
     "data": {
      "text/html": [
       "<div>\n",
       "<style scoped>\n",
       "    .dataframe tbody tr th:only-of-type {\n",
       "        vertical-align: middle;\n",
       "    }\n",
       "\n",
       "    .dataframe tbody tr th {\n",
       "        vertical-align: top;\n",
       "    }\n",
       "\n",
       "    .dataframe thead th {\n",
       "        text-align: right;\n",
       "    }\n",
       "</style>\n",
       "<table border=\"1\" class=\"dataframe\">\n",
       "  <thead>\n",
       "    <tr style=\"text-align: right;\">\n",
       "      <th></th>\n",
       "      <th>Restaurant_id</th>\n",
       "      <th>City</th>\n",
       "      <th>Cuisine Style</th>\n",
       "      <th>Ranking</th>\n",
       "      <th>Price Range</th>\n",
       "      <th>Number of Reviews</th>\n",
       "      <th>Reviews</th>\n",
       "      <th>URL_TA</th>\n",
       "      <th>ID_TA</th>\n",
       "      <th>sample</th>\n",
       "      <th>Rating</th>\n",
       "    </tr>\n",
       "  </thead>\n",
       "  <tbody>\n",
       "    <tr>\n",
       "      <th>44389</th>\n",
       "      <td>id_1292</td>\n",
       "      <td>Budapest</td>\n",
       "      <td>NaN</td>\n",
       "      <td>1293.0</td>\n",
       "      <td>NaN</td>\n",
       "      <td>9.0</td>\n",
       "      <td>[['Surprising for a buffet stalen eating plac....</td>\n",
       "      <td>/Restaurant_Review-g274887-d7250321-Reviews-Ki...</td>\n",
       "      <td>d7250321</td>\n",
       "      <td>1</td>\n",
       "      <td>4.0</td>\n",
       "    </tr>\n",
       "    <tr>\n",
       "      <th>7152</th>\n",
       "      <td>id_7152</td>\n",
       "      <td>Brussels</td>\n",
       "      <td>['Mexican']</td>\n",
       "      <td>2987.0</td>\n",
       "      <td>$$ - $$$</td>\n",
       "      <td>7.0</td>\n",
       "      <td>[['Worst service ever in Brussels', 'This food...</td>\n",
       "      <td>/Restaurant_Review-g188644-d12102435-Reviews-L...</td>\n",
       "      <td>d12102435</td>\n",
       "      <td>0</td>\n",
       "      <td>0.0</td>\n",
       "    </tr>\n",
       "    <tr>\n",
       "      <th>46956</th>\n",
       "      <td>id_2428</td>\n",
       "      <td>Munich</td>\n",
       "      <td>['German']</td>\n",
       "      <td>2445.0</td>\n",
       "      <td>NaN</td>\n",
       "      <td>8.0</td>\n",
       "      <td>[['Usually great - not today', 'Really good mu...</td>\n",
       "      <td>/Restaurant_Review-g187309-d966468-Reviews-Alf...</td>\n",
       "      <td>d966468</td>\n",
       "      <td>1</td>\n",
       "      <td>4.0</td>\n",
       "    </tr>\n",
       "    <tr>\n",
       "      <th>41722</th>\n",
       "      <td>id_12152</td>\n",
       "      <td>Paris</td>\n",
       "      <td>['Italian', 'Pizza', 'Fast Food']</td>\n",
       "      <td>12154.0</td>\n",
       "      <td>NaN</td>\n",
       "      <td>5.0</td>\n",
       "      <td>[['Good for snacks', 'Fab fast food!!!!!!'], [...</td>\n",
       "      <td>/Restaurant_Review-g187147-d9569030-Reviews-To...</td>\n",
       "      <td>d9569030</td>\n",
       "      <td>1</td>\n",
       "      <td>4.0</td>\n",
       "    </tr>\n",
       "    <tr>\n",
       "      <th>46300</th>\n",
       "      <td>id_73</td>\n",
       "      <td>Vienna</td>\n",
       "      <td>['Grill', 'Israeli', 'Vegetarian Friendly', 'V...</td>\n",
       "      <td>74.0</td>\n",
       "      <td>$$ - $$$</td>\n",
       "      <td>317.0</td>\n",
       "      <td>[['Amazing food, awesome atmosphere', 'Warm we...</td>\n",
       "      <td>/Restaurant_Review-g190454-d9590751-Reviews-Mi...</td>\n",
       "      <td>d9590751</td>\n",
       "      <td>1</td>\n",
       "      <td>4.5</td>\n",
       "    </tr>\n",
       "  </tbody>\n",
       "</table>\n",
       "</div>"
      ],
      "text/plain": [
       "      Restaurant_id      City  \\\n",
       "44389       id_1292  Budapest   \n",
       "7152        id_7152  Brussels   \n",
       "46956       id_2428    Munich   \n",
       "41722      id_12152     Paris   \n",
       "46300         id_73    Vienna   \n",
       "\n",
       "                                           Cuisine Style  Ranking Price Range  \\\n",
       "44389                                                NaN   1293.0         NaN   \n",
       "7152                                         ['Mexican']   2987.0    $$ - $$$   \n",
       "46956                                         ['German']   2445.0         NaN   \n",
       "41722                  ['Italian', 'Pizza', 'Fast Food']  12154.0         NaN   \n",
       "46300  ['Grill', 'Israeli', 'Vegetarian Friendly', 'V...     74.0    $$ - $$$   \n",
       "\n",
       "       Number of Reviews                                            Reviews  \\\n",
       "44389                9.0  [['Surprising for a buffet stalen eating plac....   \n",
       "7152                 7.0  [['Worst service ever in Brussels', 'This food...   \n",
       "46956                8.0  [['Usually great - not today', 'Really good mu...   \n",
       "41722                5.0  [['Good for snacks', 'Fab fast food!!!!!!'], [...   \n",
       "46300              317.0  [['Amazing food, awesome atmosphere', 'Warm we...   \n",
       "\n",
       "                                                  URL_TA      ID_TA  sample  \\\n",
       "44389  /Restaurant_Review-g274887-d7250321-Reviews-Ki...   d7250321       1   \n",
       "7152   /Restaurant_Review-g188644-d12102435-Reviews-L...  d12102435       0   \n",
       "46956  /Restaurant_Review-g187309-d966468-Reviews-Alf...    d966468       1   \n",
       "41722  /Restaurant_Review-g187147-d9569030-Reviews-To...   d9569030       1   \n",
       "46300  /Restaurant_Review-g190454-d9590751-Reviews-Mi...   d9590751       1   \n",
       "\n",
       "       Rating  \n",
       "44389     4.0  \n",
       "7152      0.0  \n",
       "46956     4.0  \n",
       "41722     4.0  \n",
       "46300     4.5  "
      ]
     },
     "execution_count": 13,
     "metadata": {},
     "output_type": "execute_result"
    }
   ],
   "source": [
    "data.sample(5)"
   ]
  },
  {
   "cell_type": "code",
   "execution_count": 14,
   "metadata": {},
   "outputs": [
    {
     "data": {
      "text/plain": [
       "\"[['Very good reviews!', 'Fine dining in Hakaniemi'], ['12/05/2017', '10/29/2017']]\""
      ]
     },
     "execution_count": 14,
     "metadata": {},
     "output_type": "execute_result"
    }
   ],
   "source": [
    "data.Reviews[1]"
   ]
  },
  {
   "cell_type": "markdown",
   "metadata": {},
   "source": [
    "Как видим, большинство признаков у нас требует очистки и предварительной обработки."
   ]
  },
  {
   "cell_type": "markdown",
   "metadata": {},
   "source": [
    "# Cleaning and Prepping Data\n",
    "Обычно данные содержат в себе кучу мусора, который необходимо почистить, для того чтобы привести их в приемлемый формат. Чистка данных — это необходимый этап решения почти любой реальной задачи.   \n",
    "![](https://analyticsindiamag.com/wp-content/uploads/2018/01/data-cleaning.png)"
   ]
  },
  {
   "cell_type": "markdown",
   "metadata": {},
   "source": [
    "## 1. Обработка NAN \n",
    "У наличия пропусков могут быть разные причины, но пропуски нужно либо заполнить, либо исключить из набора полностью. Но с пропусками нужно быть внимательным, **даже отсутствие информации может быть важным признаком!**   \n",
    "По этому перед обработкой NAN лучше вынести информацию о наличии пропуска как отдельный признак "
   ]
  },
  {
   "cell_type": "code",
   "execution_count": 15,
   "metadata": {},
   "outputs": [],
   "source": [
    "# Для примера я возьму столбец Number of Reviews\n",
    "data['Cuisine Style_isNAN'] = pd.isna(data['Cuisine Style']).astype('uint8')\n",
    "data['Price Range_isNAN'] = pd.isna(data['Price Range']).astype('uint8')\n",
    "data['Number of ReviewsNAN'] = pd.isna(data['Number of Reviews']).astype('uint8')\n",
    "data['Cuisine StyleNAN'] = pd.isna(data['Cuisine Style']).astype('uint8')"
   ]
  },
  {
   "cell_type": "code",
   "execution_count": 16,
   "metadata": {},
   "outputs": [
    {
     "data": {
      "text/plain": [
       "0        0\n",
       "1        0\n",
       "2        0\n",
       "3        0\n",
       "4        0\n",
       "        ..\n",
       "49995    0\n",
       "49996    0\n",
       "49997    0\n",
       "49998    0\n",
       "49999    0\n",
       "Name: Number of ReviewsNAN, Length: 50000, dtype: uint8"
      ]
     },
     "execution_count": 16,
     "metadata": {},
     "output_type": "execute_result"
    }
   ],
   "source": [
    "data['Number of ReviewsNAN']"
   ]
  },
  {
   "cell_type": "markdown",
   "metadata": {},
   "source": [
    "#### Посмотрим самое часто встреющееся количество отзывов для дальнейшего заполнения пропусков"
   ]
  },
  {
   "cell_type": "code",
   "execution_count": 17,
   "metadata": {},
   "outputs": [
    {
     "data": {
      "text/plain": [
       "2.0       2403\n",
       "3.0       2042\n",
       "4.0       1707\n",
       "5.0       1471\n",
       "6.0       1258\n",
       "          ... \n",
       "5216.0       1\n",
       "1932.0       1\n",
       "1050.0       1\n",
       "1145.0       1\n",
       "1471.0       1\n",
       "Name: Number of Reviews, Length: 1573, dtype: int64"
      ]
     },
     "execution_count": 17,
     "metadata": {},
     "output_type": "execute_result"
    }
   ],
   "source": [
    "data['Number of Reviews'].value_counts()"
   ]
  },
  {
   "cell_type": "code",
   "execution_count": 18,
   "metadata": {},
   "outputs": [
    {
     "data": {
      "text/plain": [
       "0    2.0\n",
       "dtype: float64"
      ]
     },
     "execution_count": 18,
     "metadata": {},
     "output_type": "execute_result"
    }
   ],
   "source": [
    "data['Number of Reviews'].mode()"
   ]
  },
  {
   "cell_type": "code",
   "execution_count": 19,
   "metadata": {},
   "outputs": [],
   "source": [
    "# Далее заполняем пропуски значением '2'\n",
    "data['Number of Reviews'] = data['Number of Reviews'].fillna(\n",
    "    data['Number of Reviews'].mode().iloc[0])"
   ]
  },
  {
   "cell_type": "code",
   "execution_count": 20,
   "metadata": {},
   "outputs": [
    {
     "data": {
      "text/html": [
       "<div>\n",
       "<style scoped>\n",
       "    .dataframe tbody tr th:only-of-type {\n",
       "        vertical-align: middle;\n",
       "    }\n",
       "\n",
       "    .dataframe tbody tr th {\n",
       "        vertical-align: top;\n",
       "    }\n",
       "\n",
       "    .dataframe thead th {\n",
       "        text-align: right;\n",
       "    }\n",
       "</style>\n",
       "<table border=\"1\" class=\"dataframe\">\n",
       "  <thead>\n",
       "    <tr style=\"text-align: right;\">\n",
       "      <th></th>\n",
       "      <th>Restaurant_id</th>\n",
       "      <th>City</th>\n",
       "      <th>Cuisine Style</th>\n",
       "      <th>Ranking</th>\n",
       "      <th>Price Range</th>\n",
       "      <th>Number of Reviews</th>\n",
       "      <th>Reviews</th>\n",
       "      <th>URL_TA</th>\n",
       "      <th>ID_TA</th>\n",
       "      <th>sample</th>\n",
       "      <th>Rating</th>\n",
       "      <th>Cuisine Style_isNAN</th>\n",
       "      <th>Price Range_isNAN</th>\n",
       "      <th>Number of ReviewsNAN</th>\n",
       "      <th>Cuisine StyleNAN</th>\n",
       "    </tr>\n",
       "  </thead>\n",
       "  <tbody>\n",
       "    <tr>\n",
       "      <th>30054</th>\n",
       "      <td>id_1472</td>\n",
       "      <td>Zurich</td>\n",
       "      <td>NaN</td>\n",
       "      <td>1476.0</td>\n",
       "      <td>NaN</td>\n",
       "      <td>2.0</td>\n",
       "      <td>[['Small cafe at Schmiede-Wiedikon'], ['10/21/...</td>\n",
       "      <td>/Restaurant_Review-g188113-d13000895-Reviews-D...</td>\n",
       "      <td>d13000895</td>\n",
       "      <td>1</td>\n",
       "      <td>3.0</td>\n",
       "      <td>1</td>\n",
       "      <td>1</td>\n",
       "      <td>1</td>\n",
       "      <td>1</td>\n",
       "    </tr>\n",
       "    <tr>\n",
       "      <th>39699</th>\n",
       "      <td>id_1004</td>\n",
       "      <td>Hamburg</td>\n",
       "      <td>NaN</td>\n",
       "      <td>1006.0</td>\n",
       "      <td>NaN</td>\n",
       "      <td>83.0</td>\n",
       "      <td>[['Typical dinner experience', 'Delicious!'], ...</td>\n",
       "      <td>/Restaurant_Review-g187331-d1963482-Reviews-Ko...</td>\n",
       "      <td>d1963482</td>\n",
       "      <td>1</td>\n",
       "      <td>3.5</td>\n",
       "      <td>1</td>\n",
       "      <td>1</td>\n",
       "      <td>0</td>\n",
       "      <td>1</td>\n",
       "    </tr>\n",
       "    <tr>\n",
       "      <th>4410</th>\n",
       "      <td>id_4410</td>\n",
       "      <td>Milan</td>\n",
       "      <td>['Italian']</td>\n",
       "      <td>4586.0</td>\n",
       "      <td>NaN</td>\n",
       "      <td>2.0</td>\n",
       "      <td>[[], []]</td>\n",
       "      <td>/Restaurant_Review-g187849-d4232505-Reviews-Ba...</td>\n",
       "      <td>d4232505</td>\n",
       "      <td>0</td>\n",
       "      <td>0.0</td>\n",
       "      <td>0</td>\n",
       "      <td>1</td>\n",
       "      <td>0</td>\n",
       "      <td>0</td>\n",
       "    </tr>\n",
       "    <tr>\n",
       "      <th>31640</th>\n",
       "      <td>id_69</td>\n",
       "      <td>Budapest</td>\n",
       "      <td>['Mediterranean', 'Italian', 'Pizza', 'Europea...</td>\n",
       "      <td>70.0</td>\n",
       "      <td>$$ - $$$</td>\n",
       "      <td>206.0</td>\n",
       "      <td>[['Best italian in town', 'Amazing Italian Chr...</td>\n",
       "      <td>/Restaurant_Review-g274887-d10252381-Reviews-G...</td>\n",
       "      <td>d10252381</td>\n",
       "      <td>1</td>\n",
       "      <td>4.5</td>\n",
       "      <td>0</td>\n",
       "      <td>0</td>\n",
       "      <td>0</td>\n",
       "      <td>0</td>\n",
       "    </tr>\n",
       "    <tr>\n",
       "      <th>9459</th>\n",
       "      <td>id_9459</td>\n",
       "      <td>Stockholm</td>\n",
       "      <td>['Italian', 'Pizza', 'European', 'Vegetarian F...</td>\n",
       "      <td>403.0</td>\n",
       "      <td>$$ - $$$</td>\n",
       "      <td>48.0</td>\n",
       "      <td>[['Short break to Stockholm', 'Great value and...</td>\n",
       "      <td>/Restaurant_Review-g189852-d3515325-Reviews-FE...</td>\n",
       "      <td>d3515325</td>\n",
       "      <td>0</td>\n",
       "      <td>0.0</td>\n",
       "      <td>0</td>\n",
       "      <td>0</td>\n",
       "      <td>0</td>\n",
       "      <td>0</td>\n",
       "    </tr>\n",
       "    <tr>\n",
       "      <th>33076</th>\n",
       "      <td>id_1478</td>\n",
       "      <td>Hamburg</td>\n",
       "      <td>['Brazilian', 'South American']</td>\n",
       "      <td>1480.0</td>\n",
       "      <td>NaN</td>\n",
       "      <td>3.0</td>\n",
       "      <td>[[], []]</td>\n",
       "      <td>/Restaurant_Review-g187331-d2515817-Reviews-Me...</td>\n",
       "      <td>d2515817</td>\n",
       "      <td>1</td>\n",
       "      <td>4.5</td>\n",
       "      <td>0</td>\n",
       "      <td>1</td>\n",
       "      <td>0</td>\n",
       "      <td>0</td>\n",
       "    </tr>\n",
       "    <tr>\n",
       "      <th>49915</th>\n",
       "      <td>id_3792</td>\n",
       "      <td>Rome</td>\n",
       "      <td>['Italian', 'Mediterranean', 'Seafood']</td>\n",
       "      <td>3793.0</td>\n",
       "      <td>$$ - $$$</td>\n",
       "      <td>333.0</td>\n",
       "      <td>[['Simpel but great', 'Good sicilian fresh foo...</td>\n",
       "      <td>/Restaurant_Review-g187791-d2697196-Reviews-Ri...</td>\n",
       "      <td>d2697196</td>\n",
       "      <td>1</td>\n",
       "      <td>4.0</td>\n",
       "      <td>0</td>\n",
       "      <td>0</td>\n",
       "      <td>0</td>\n",
       "      <td>0</td>\n",
       "    </tr>\n",
       "    <tr>\n",
       "      <th>11076</th>\n",
       "      <td>id_4369</td>\n",
       "      <td>Rome</td>\n",
       "      <td>NaN</td>\n",
       "      <td>4370.0</td>\n",
       "      <td>NaN</td>\n",
       "      <td>17.0</td>\n",
       "      <td>[[], []]</td>\n",
       "      <td>/Restaurant_Review-g187791-d9750236-Reviews-La...</td>\n",
       "      <td>d9750236</td>\n",
       "      <td>1</td>\n",
       "      <td>4.0</td>\n",
       "      <td>1</td>\n",
       "      <td>1</td>\n",
       "      <td>0</td>\n",
       "      <td>1</td>\n",
       "    </tr>\n",
       "    <tr>\n",
       "      <th>4524</th>\n",
       "      <td>id_4524</td>\n",
       "      <td>Lisbon</td>\n",
       "      <td>['European', 'Mediterranean', 'Portuguese', 'V...</td>\n",
       "      <td>1406.0</td>\n",
       "      <td>$$ - $$$</td>\n",
       "      <td>52.0</td>\n",
       "      <td>[['Great breakfast', 'What a surprise!'], ['10...</td>\n",
       "      <td>/Restaurant_Review-g189158-d2616941-Reviews-Sa...</td>\n",
       "      <td>d2616941</td>\n",
       "      <td>0</td>\n",
       "      <td>0.0</td>\n",
       "      <td>0</td>\n",
       "      <td>0</td>\n",
       "      <td>0</td>\n",
       "      <td>0</td>\n",
       "    </tr>\n",
       "    <tr>\n",
       "      <th>18535</th>\n",
       "      <td>id_1353</td>\n",
       "      <td>Zurich</td>\n",
       "      <td>NaN</td>\n",
       "      <td>1358.0</td>\n",
       "      <td>NaN</td>\n",
       "      <td>5.0</td>\n",
       "      <td>[['Warm and disorganised', 'Houdini Cinema Bar...</td>\n",
       "      <td>/Restaurant_Review-g188113-d11957461-Reviews-H...</td>\n",
       "      <td>d11957461</td>\n",
       "      <td>1</td>\n",
       "      <td>3.5</td>\n",
       "      <td>1</td>\n",
       "      <td>1</td>\n",
       "      <td>0</td>\n",
       "      <td>1</td>\n",
       "    </tr>\n",
       "    <tr>\n",
       "      <th>11806</th>\n",
       "      <td>id_1666</td>\n",
       "      <td>Vienna</td>\n",
       "      <td>['Italian', 'Mexican', 'Pizza', 'Mediterranean...</td>\n",
       "      <td>1667.0</td>\n",
       "      <td>$$ - $$$</td>\n",
       "      <td>58.0</td>\n",
       "      <td>[['A great start to our Vienna visit.', 'Great...</td>\n",
       "      <td>/Restaurant_Review-g190454-d2149299-Reviews-Ca...</td>\n",
       "      <td>d2149299</td>\n",
       "      <td>1</td>\n",
       "      <td>4.0</td>\n",
       "      <td>0</td>\n",
       "      <td>0</td>\n",
       "      <td>0</td>\n",
       "      <td>0</td>\n",
       "    </tr>\n",
       "    <tr>\n",
       "      <th>18853</th>\n",
       "      <td>id_51</td>\n",
       "      <td>Paris</td>\n",
       "      <td>['French', 'European', 'Vegetarian Friendly', ...</td>\n",
       "      <td>52.0</td>\n",
       "      <td>$$ - $$$</td>\n",
       "      <td>896.0</td>\n",
       "      <td>[[\"Excellent meal on New Year's Eve; great gl....</td>\n",
       "      <td>/Restaurant_Review-g187147-d719117-Reviews-Le_...</td>\n",
       "      <td>d719117</td>\n",
       "      <td>1</td>\n",
       "      <td>4.5</td>\n",
       "      <td>0</td>\n",
       "      <td>0</td>\n",
       "      <td>0</td>\n",
       "      <td>0</td>\n",
       "    </tr>\n",
       "    <tr>\n",
       "      <th>44368</th>\n",
       "      <td>id_11590</td>\n",
       "      <td>Paris</td>\n",
       "      <td>['French', 'Bar', 'Mediterranean', 'European']</td>\n",
       "      <td>11592.0</td>\n",
       "      <td>$$ - $$$</td>\n",
       "      <td>155.0</td>\n",
       "      <td>[['Corsican restaurant', 'Incredibly rude'], [...</td>\n",
       "      <td>/Restaurant_Review-g187147-d784532-Reviews-Hal...</td>\n",
       "      <td>d784532</td>\n",
       "      <td>1</td>\n",
       "      <td>3.0</td>\n",
       "      <td>0</td>\n",
       "      <td>0</td>\n",
       "      <td>0</td>\n",
       "      <td>0</td>\n",
       "    </tr>\n",
       "    <tr>\n",
       "      <th>5118</th>\n",
       "      <td>id_5118</td>\n",
       "      <td>Amsterdam</td>\n",
       "      <td>['Italian', 'Pizza', 'Mediterranean', 'European']</td>\n",
       "      <td>2911.0</td>\n",
       "      <td>$$ - $$$</td>\n",
       "      <td>20.0</td>\n",
       "      <td>[['nice place', 'Great little Italian'], ['02/...</td>\n",
       "      <td>/Restaurant_Review-g188590-d4112701-Reviews-Ri...</td>\n",
       "      <td>d4112701</td>\n",
       "      <td>0</td>\n",
       "      <td>0.0</td>\n",
       "      <td>0</td>\n",
       "      <td>0</td>\n",
       "      <td>0</td>\n",
       "      <td>0</td>\n",
       "    </tr>\n",
       "    <tr>\n",
       "      <th>44412</th>\n",
       "      <td>id_5465</td>\n",
       "      <td>Madrid</td>\n",
       "      <td>NaN</td>\n",
       "      <td>5468.0</td>\n",
       "      <td>NaN</td>\n",
       "      <td>10.0</td>\n",
       "      <td>[[], []]</td>\n",
       "      <td>/Restaurant_Review-g187514-d11913075-Reviews-V...</td>\n",
       "      <td>d11913075</td>\n",
       "      <td>1</td>\n",
       "      <td>3.5</td>\n",
       "      <td>1</td>\n",
       "      <td>1</td>\n",
       "      <td>0</td>\n",
       "      <td>1</td>\n",
       "    </tr>\n",
       "    <tr>\n",
       "      <th>14127</th>\n",
       "      <td>id_8561</td>\n",
       "      <td>Paris</td>\n",
       "      <td>['French']</td>\n",
       "      <td>8563.0</td>\n",
       "      <td>$$$$</td>\n",
       "      <td>4.0</td>\n",
       "      <td>[['GREAT MEAT AMAZING ROASTS'], ['05/17/2017']]</td>\n",
       "      <td>/Restaurant_Review-g187147-d10751392-Reviews-B...</td>\n",
       "      <td>d10751392</td>\n",
       "      <td>1</td>\n",
       "      <td>4.5</td>\n",
       "      <td>0</td>\n",
       "      <td>0</td>\n",
       "      <td>0</td>\n",
       "      <td>0</td>\n",
       "    </tr>\n",
       "    <tr>\n",
       "      <th>29816</th>\n",
       "      <td>id_1322</td>\n",
       "      <td>Madrid</td>\n",
       "      <td>['Spanish']</td>\n",
       "      <td>1324.0</td>\n",
       "      <td>$</td>\n",
       "      <td>70.0</td>\n",
       "      <td>[['Skip the overpriced overrated mercado San.....</td>\n",
       "      <td>/Restaurant_Review-g187514-d7084672-Reviews-Ba...</td>\n",
       "      <td>d7084672</td>\n",
       "      <td>1</td>\n",
       "      <td>4.5</td>\n",
       "      <td>0</td>\n",
       "      <td>0</td>\n",
       "      <td>0</td>\n",
       "      <td>0</td>\n",
       "    </tr>\n",
       "    <tr>\n",
       "      <th>40497</th>\n",
       "      <td>id_1101</td>\n",
       "      <td>Vienna</td>\n",
       "      <td>['Indian', 'Asian', 'Vegetarian Friendly', 'Ve...</td>\n",
       "      <td>1102.0</td>\n",
       "      <td>$</td>\n",
       "      <td>24.0</td>\n",
       "      <td>[['Best Indian food and economical too.', 'Tas...</td>\n",
       "      <td>/Restaurant_Review-g190454-d6260442-Reviews-Bo...</td>\n",
       "      <td>d6260442</td>\n",
       "      <td>1</td>\n",
       "      <td>4.5</td>\n",
       "      <td>0</td>\n",
       "      <td>0</td>\n",
       "      <td>0</td>\n",
       "      <td>0</td>\n",
       "    </tr>\n",
       "    <tr>\n",
       "      <th>43896</th>\n",
       "      <td>id_12805</td>\n",
       "      <td>London</td>\n",
       "      <td>['Cafe']</td>\n",
       "      <td>12815.0</td>\n",
       "      <td>$</td>\n",
       "      <td>10.0</td>\n",
       "      <td>[['Are they still open?', 'Staff very rude!!!!...</td>\n",
       "      <td>/Restaurant_Review-g186338-d7220771-Reviews-Ba...</td>\n",
       "      <td>d7220771</td>\n",
       "      <td>1</td>\n",
       "      <td>3.5</td>\n",
       "      <td>0</td>\n",
       "      <td>0</td>\n",
       "      <td>0</td>\n",
       "      <td>0</td>\n",
       "    </tr>\n",
       "    <tr>\n",
       "      <th>33037</th>\n",
       "      <td>id_8427</td>\n",
       "      <td>Madrid</td>\n",
       "      <td>NaN</td>\n",
       "      <td>8434.0</td>\n",
       "      <td>NaN</td>\n",
       "      <td>43.0</td>\n",
       "      <td>[['Good food, great service', 'A really good m...</td>\n",
       "      <td>/Restaurant_Review-g187514-d990930-Reviews-Mir...</td>\n",
       "      <td>d990930</td>\n",
       "      <td>1</td>\n",
       "      <td>2.5</td>\n",
       "      <td>1</td>\n",
       "      <td>1</td>\n",
       "      <td>0</td>\n",
       "      <td>1</td>\n",
       "    </tr>\n",
       "  </tbody>\n",
       "</table>\n",
       "</div>"
      ],
      "text/plain": [
       "      Restaurant_id       City  \\\n",
       "30054       id_1472     Zurich   \n",
       "39699       id_1004    Hamburg   \n",
       "4410        id_4410      Milan   \n",
       "31640         id_69   Budapest   \n",
       "9459        id_9459  Stockholm   \n",
       "33076       id_1478    Hamburg   \n",
       "49915       id_3792       Rome   \n",
       "11076       id_4369       Rome   \n",
       "4524        id_4524     Lisbon   \n",
       "18535       id_1353     Zurich   \n",
       "11806       id_1666     Vienna   \n",
       "18853         id_51      Paris   \n",
       "44368      id_11590      Paris   \n",
       "5118        id_5118  Amsterdam   \n",
       "44412       id_5465     Madrid   \n",
       "14127       id_8561      Paris   \n",
       "29816       id_1322     Madrid   \n",
       "40497       id_1101     Vienna   \n",
       "43896      id_12805     London   \n",
       "33037       id_8427     Madrid   \n",
       "\n",
       "                                           Cuisine Style  Ranking Price Range  \\\n",
       "30054                                                NaN   1476.0         NaN   \n",
       "39699                                                NaN   1006.0         NaN   \n",
       "4410                                         ['Italian']   4586.0         NaN   \n",
       "31640  ['Mediterranean', 'Italian', 'Pizza', 'Europea...     70.0    $$ - $$$   \n",
       "9459   ['Italian', 'Pizza', 'European', 'Vegetarian F...    403.0    $$ - $$$   \n",
       "33076                    ['Brazilian', 'South American']   1480.0         NaN   \n",
       "49915            ['Italian', 'Mediterranean', 'Seafood']   3793.0    $$ - $$$   \n",
       "11076                                                NaN   4370.0         NaN   \n",
       "4524   ['European', 'Mediterranean', 'Portuguese', 'V...   1406.0    $$ - $$$   \n",
       "18535                                                NaN   1358.0         NaN   \n",
       "11806  ['Italian', 'Mexican', 'Pizza', 'Mediterranean...   1667.0    $$ - $$$   \n",
       "18853  ['French', 'European', 'Vegetarian Friendly', ...     52.0    $$ - $$$   \n",
       "44368     ['French', 'Bar', 'Mediterranean', 'European']  11592.0    $$ - $$$   \n",
       "5118   ['Italian', 'Pizza', 'Mediterranean', 'European']   2911.0    $$ - $$$   \n",
       "44412                                                NaN   5468.0         NaN   \n",
       "14127                                         ['French']   8563.0        $$$$   \n",
       "29816                                        ['Spanish']   1324.0           $   \n",
       "40497  ['Indian', 'Asian', 'Vegetarian Friendly', 'Ve...   1102.0           $   \n",
       "43896                                           ['Cafe']  12815.0           $   \n",
       "33037                                                NaN   8434.0         NaN   \n",
       "\n",
       "       Number of Reviews                                            Reviews  \\\n",
       "30054                2.0  [['Small cafe at Schmiede-Wiedikon'], ['10/21/...   \n",
       "39699               83.0  [['Typical dinner experience', 'Delicious!'], ...   \n",
       "4410                 2.0                                           [[], []]   \n",
       "31640              206.0  [['Best italian in town', 'Amazing Italian Chr...   \n",
       "9459                48.0  [['Short break to Stockholm', 'Great value and...   \n",
       "33076                3.0                                           [[], []]   \n",
       "49915              333.0  [['Simpel but great', 'Good sicilian fresh foo...   \n",
       "11076               17.0                                           [[], []]   \n",
       "4524                52.0  [['Great breakfast', 'What a surprise!'], ['10...   \n",
       "18535                5.0  [['Warm and disorganised', 'Houdini Cinema Bar...   \n",
       "11806               58.0  [['A great start to our Vienna visit.', 'Great...   \n",
       "18853              896.0  [[\"Excellent meal on New Year's Eve; great gl....   \n",
       "44368              155.0  [['Corsican restaurant', 'Incredibly rude'], [...   \n",
       "5118                20.0  [['nice place', 'Great little Italian'], ['02/...   \n",
       "44412               10.0                                           [[], []]   \n",
       "14127                4.0    [['GREAT MEAT AMAZING ROASTS'], ['05/17/2017']]   \n",
       "29816               70.0  [['Skip the overpriced overrated mercado San.....   \n",
       "40497               24.0  [['Best Indian food and economical too.', 'Tas...   \n",
       "43896               10.0  [['Are they still open?', 'Staff very rude!!!!...   \n",
       "33037               43.0  [['Good food, great service', 'A really good m...   \n",
       "\n",
       "                                                  URL_TA      ID_TA  sample  \\\n",
       "30054  /Restaurant_Review-g188113-d13000895-Reviews-D...  d13000895       1   \n",
       "39699  /Restaurant_Review-g187331-d1963482-Reviews-Ko...   d1963482       1   \n",
       "4410   /Restaurant_Review-g187849-d4232505-Reviews-Ba...   d4232505       0   \n",
       "31640  /Restaurant_Review-g274887-d10252381-Reviews-G...  d10252381       1   \n",
       "9459   /Restaurant_Review-g189852-d3515325-Reviews-FE...   d3515325       0   \n",
       "33076  /Restaurant_Review-g187331-d2515817-Reviews-Me...   d2515817       1   \n",
       "49915  /Restaurant_Review-g187791-d2697196-Reviews-Ri...   d2697196       1   \n",
       "11076  /Restaurant_Review-g187791-d9750236-Reviews-La...   d9750236       1   \n",
       "4524   /Restaurant_Review-g189158-d2616941-Reviews-Sa...   d2616941       0   \n",
       "18535  /Restaurant_Review-g188113-d11957461-Reviews-H...  d11957461       1   \n",
       "11806  /Restaurant_Review-g190454-d2149299-Reviews-Ca...   d2149299       1   \n",
       "18853  /Restaurant_Review-g187147-d719117-Reviews-Le_...    d719117       1   \n",
       "44368  /Restaurant_Review-g187147-d784532-Reviews-Hal...    d784532       1   \n",
       "5118   /Restaurant_Review-g188590-d4112701-Reviews-Ri...   d4112701       0   \n",
       "44412  /Restaurant_Review-g187514-d11913075-Reviews-V...  d11913075       1   \n",
       "14127  /Restaurant_Review-g187147-d10751392-Reviews-B...  d10751392       1   \n",
       "29816  /Restaurant_Review-g187514-d7084672-Reviews-Ba...   d7084672       1   \n",
       "40497  /Restaurant_Review-g190454-d6260442-Reviews-Bo...   d6260442       1   \n",
       "43896  /Restaurant_Review-g186338-d7220771-Reviews-Ba...   d7220771       1   \n",
       "33037  /Restaurant_Review-g187514-d990930-Reviews-Mir...    d990930       1   \n",
       "\n",
       "       Rating  Cuisine Style_isNAN  Price Range_isNAN  Number of ReviewsNAN  \\\n",
       "30054     3.0                    1                  1                     1   \n",
       "39699     3.5                    1                  1                     0   \n",
       "4410      0.0                    0                  1                     0   \n",
       "31640     4.5                    0                  0                     0   \n",
       "9459      0.0                    0                  0                     0   \n",
       "33076     4.5                    0                  1                     0   \n",
       "49915     4.0                    0                  0                     0   \n",
       "11076     4.0                    1                  1                     0   \n",
       "4524      0.0                    0                  0                     0   \n",
       "18535     3.5                    1                  1                     0   \n",
       "11806     4.0                    0                  0                     0   \n",
       "18853     4.5                    0                  0                     0   \n",
       "44368     3.0                    0                  0                     0   \n",
       "5118      0.0                    0                  0                     0   \n",
       "44412     3.5                    1                  1                     0   \n",
       "14127     4.5                    0                  0                     0   \n",
       "29816     4.5                    0                  0                     0   \n",
       "40497     4.5                    0                  0                     0   \n",
       "43896     3.5                    0                  0                     0   \n",
       "33037     2.5                    1                  1                     0   \n",
       "\n",
       "       Cuisine StyleNAN  \n",
       "30054                 1  \n",
       "39699                 1  \n",
       "4410                  0  \n",
       "31640                 0  \n",
       "9459                  0  \n",
       "33076                 0  \n",
       "49915                 0  \n",
       "11076                 1  \n",
       "4524                  0  \n",
       "18535                 1  \n",
       "11806                 0  \n",
       "18853                 0  \n",
       "44368                 0  \n",
       "5118                  0  \n",
       "44412                 1  \n",
       "14127                 0  \n",
       "29816                 0  \n",
       "40497                 0  \n",
       "43896                 0  \n",
       "33037                 1  "
      ]
     },
     "execution_count": 20,
     "metadata": {},
     "output_type": "execute_result"
    }
   ],
   "source": [
    "data.sample(20)"
   ]
  },
  {
   "cell_type": "markdown",
   "metadata": {},
   "source": [
    "### 2. Обработка признаков\n",
    "Для начала посмотрим какие признаки у нас могут быть категориальными."
   ]
  },
  {
   "cell_type": "code",
   "execution_count": 21,
   "metadata": {},
   "outputs": [
    {
     "data": {
      "text/plain": [
       "Restaurant_id           13094\n",
       "City                       31\n",
       "Cuisine Style           10732\n",
       "Ranking                 12975\n",
       "Price Range                 4\n",
       "Number of Reviews        1573\n",
       "Reviews                 41858\n",
       "URL_TA                  49963\n",
       "ID_TA                   49963\n",
       "sample                      2\n",
       "Rating                     10\n",
       "Cuisine Style_isNAN         2\n",
       "Price Range_isNAN           2\n",
       "Number of ReviewsNAN        2\n",
       "Cuisine StyleNAN            2\n",
       "dtype: int64"
      ]
     },
     "execution_count": 21,
     "metadata": {},
     "output_type": "execute_result"
    }
   ],
   "source": [
    "data.nunique(dropna=False)"
   ]
  },
  {
   "cell_type": "code",
   "execution_count": 22,
   "metadata": {},
   "outputs": [
    {
     "data": {
      "text/html": [
       "<div>\n",
       "<style scoped>\n",
       "    .dataframe tbody tr th:only-of-type {\n",
       "        vertical-align: middle;\n",
       "    }\n",
       "\n",
       "    .dataframe tbody tr th {\n",
       "        vertical-align: top;\n",
       "    }\n",
       "\n",
       "    .dataframe thead th {\n",
       "        text-align: right;\n",
       "    }\n",
       "</style>\n",
       "<table border=\"1\" class=\"dataframe\">\n",
       "  <thead>\n",
       "    <tr style=\"text-align: right;\">\n",
       "      <th></th>\n",
       "      <th>Restaurant_id</th>\n",
       "      <th>City</th>\n",
       "      <th>Cuisine Style</th>\n",
       "      <th>Ranking</th>\n",
       "      <th>Price Range</th>\n",
       "      <th>Number of Reviews</th>\n",
       "      <th>Reviews</th>\n",
       "      <th>URL_TA</th>\n",
       "      <th>ID_TA</th>\n",
       "      <th>sample</th>\n",
       "      <th>Rating</th>\n",
       "      <th>Cuisine Style_isNAN</th>\n",
       "      <th>Price Range_isNAN</th>\n",
       "      <th>Number of ReviewsNAN</th>\n",
       "      <th>Cuisine StyleNAN</th>\n",
       "    </tr>\n",
       "  </thead>\n",
       "  <tbody>\n",
       "    <tr>\n",
       "      <th>40410</th>\n",
       "      <td>id_192</td>\n",
       "      <td>Lisbon</td>\n",
       "      <td>['Mediterranean', 'European', 'Portuguese', 'V...</td>\n",
       "      <td>193.0</td>\n",
       "      <td>$</td>\n",
       "      <td>163.0</td>\n",
       "      <td>[['Simple but very good', 'Excellent'], ['01/0...</td>\n",
       "      <td>/Restaurant_Review-g189158-d8630662-Reviews-O_...</td>\n",
       "      <td>d8630662</td>\n",
       "      <td>1</td>\n",
       "      <td>4.5</td>\n",
       "      <td>0</td>\n",
       "      <td>0</td>\n",
       "      <td>0</td>\n",
       "      <td>0</td>\n",
       "    </tr>\n",
       "    <tr>\n",
       "      <th>48642</th>\n",
       "      <td>id_5654</td>\n",
       "      <td>London</td>\n",
       "      <td>['Wine Bar', 'Italian', 'Mediterranean']</td>\n",
       "      <td>5663.0</td>\n",
       "      <td>$$ - $$$</td>\n",
       "      <td>28.0</td>\n",
       "      <td>[['Probably the best wine bar in London', 'Gre...</td>\n",
       "      <td>/Restaurant_Review-g186338-d7619687-Reviews-Vi...</td>\n",
       "      <td>d7619687</td>\n",
       "      <td>1</td>\n",
       "      <td>4.5</td>\n",
       "      <td>0</td>\n",
       "      <td>0</td>\n",
       "      <td>0</td>\n",
       "      <td>0</td>\n",
       "    </tr>\n",
       "    <tr>\n",
       "      <th>32568</th>\n",
       "      <td>id_1561</td>\n",
       "      <td>Athens</td>\n",
       "      <td>['Pizza']</td>\n",
       "      <td>1563.0</td>\n",
       "      <td>$</td>\n",
       "      <td>7.0</td>\n",
       "      <td>[['Quick, inexpensive stop for pizza &amp; drinks'...</td>\n",
       "      <td>/Restaurant_Review-g189400-d5600596-Reviews-Fo...</td>\n",
       "      <td>d5600596</td>\n",
       "      <td>1</td>\n",
       "      <td>3.5</td>\n",
       "      <td>0</td>\n",
       "      <td>0</td>\n",
       "      <td>0</td>\n",
       "      <td>0</td>\n",
       "    </tr>\n",
       "    <tr>\n",
       "      <th>37749</th>\n",
       "      <td>id_9212</td>\n",
       "      <td>Paris</td>\n",
       "      <td>['Thai']</td>\n",
       "      <td>9214.0</td>\n",
       "      <td>$$ - $$$</td>\n",
       "      <td>59.0</td>\n",
       "      <td>[['Thaifood', 'Nice little restaurant'], ['07/...</td>\n",
       "      <td>/Restaurant_Review-g187147-d1322442-Reviews-Lu...</td>\n",
       "      <td>d1322442</td>\n",
       "      <td>1</td>\n",
       "      <td>3.5</td>\n",
       "      <td>0</td>\n",
       "      <td>0</td>\n",
       "      <td>0</td>\n",
       "      <td>0</td>\n",
       "    </tr>\n",
       "    <tr>\n",
       "      <th>24986</th>\n",
       "      <td>id_13336</td>\n",
       "      <td>London</td>\n",
       "      <td>NaN</td>\n",
       "      <td>13346.0</td>\n",
       "      <td>NaN</td>\n",
       "      <td>5.0</td>\n",
       "      <td>[['Typical EAT', 'Good restaurant Eat'], ['10/...</td>\n",
       "      <td>/Restaurant_Review-g186338-d8460601-Reviews-Ea...</td>\n",
       "      <td>d8460601</td>\n",
       "      <td>1</td>\n",
       "      <td>3.0</td>\n",
       "      <td>1</td>\n",
       "      <td>1</td>\n",
       "      <td>0</td>\n",
       "      <td>1</td>\n",
       "    </tr>\n",
       "  </tbody>\n",
       "</table>\n",
       "</div>"
      ],
      "text/plain": [
       "      Restaurant_id    City  \\\n",
       "40410        id_192  Lisbon   \n",
       "48642       id_5654  London   \n",
       "32568       id_1561  Athens   \n",
       "37749       id_9212   Paris   \n",
       "24986      id_13336  London   \n",
       "\n",
       "                                           Cuisine Style  Ranking Price Range  \\\n",
       "40410  ['Mediterranean', 'European', 'Portuguese', 'V...    193.0           $   \n",
       "48642           ['Wine Bar', 'Italian', 'Mediterranean']   5663.0    $$ - $$$   \n",
       "32568                                          ['Pizza']   1563.0           $   \n",
       "37749                                           ['Thai']   9214.0    $$ - $$$   \n",
       "24986                                                NaN  13346.0         NaN   \n",
       "\n",
       "       Number of Reviews                                            Reviews  \\\n",
       "40410              163.0  [['Simple but very good', 'Excellent'], ['01/0...   \n",
       "48642               28.0  [['Probably the best wine bar in London', 'Gre...   \n",
       "32568                7.0  [['Quick, inexpensive stop for pizza & drinks'...   \n",
       "37749               59.0  [['Thaifood', 'Nice little restaurant'], ['07/...   \n",
       "24986                5.0  [['Typical EAT', 'Good restaurant Eat'], ['10/...   \n",
       "\n",
       "                                                  URL_TA     ID_TA  sample  \\\n",
       "40410  /Restaurant_Review-g189158-d8630662-Reviews-O_...  d8630662       1   \n",
       "48642  /Restaurant_Review-g186338-d7619687-Reviews-Vi...  d7619687       1   \n",
       "32568  /Restaurant_Review-g189400-d5600596-Reviews-Fo...  d5600596       1   \n",
       "37749  /Restaurant_Review-g187147-d1322442-Reviews-Lu...  d1322442       1   \n",
       "24986  /Restaurant_Review-g186338-d8460601-Reviews-Ea...  d8460601       1   \n",
       "\n",
       "       Rating  Cuisine Style_isNAN  Price Range_isNAN  Number of ReviewsNAN  \\\n",
       "40410     4.5                    0                  0                     0   \n",
       "48642     4.5                    0                  0                     0   \n",
       "32568     3.5                    0                  0                     0   \n",
       "37749     3.5                    0                  0                     0   \n",
       "24986     3.0                    1                  1                     0   \n",
       "\n",
       "       Cuisine StyleNAN  \n",
       "40410                 0  \n",
       "48642                 0  \n",
       "32568                 0  \n",
       "37749                 0  \n",
       "24986                 1  "
      ]
     },
     "execution_count": 22,
     "metadata": {},
     "output_type": "execute_result"
    }
   ],
   "source": [
    "data.sample(5)"
   ]
  },
  {
   "cell_type": "markdown",
   "metadata": {},
   "source": [
    "#### Возьмем признак \"Price Range\"."
   ]
  },
  {
   "cell_type": "code",
   "execution_count": 23,
   "metadata": {},
   "outputs": [
    {
     "data": {
      "text/plain": [
       "$$ - $$$    23041\n",
       "$            7816\n",
       "$$$$         1782\n",
       "Name: Price Range, dtype: int64"
      ]
     },
     "execution_count": 23,
     "metadata": {},
     "output_type": "execute_result"
    }
   ],
   "source": [
    "data['Price Range'].value_counts()"
   ]
  },
  {
   "cell_type": "markdown",
   "metadata": {},
   "source": [
    "По описанию 'Price Range' это - Цены в ресторане.  \n",
    "Их можно поставить по возрастанию (значит это не категориальный признак). А это значит, что их можно заменить последовательными числами, например 1,2,3  "
   ]
  },
  {
   "cell_type": "code",
   "execution_count": 24,
   "metadata": {},
   "outputs": [],
   "source": [
    "data['Price Range'] = data['Price Range'].apply(\n",
    "    lambda x: 1 if x == '$' else 2 if x == '$$ - $$$' else 3 if x == '$$$$' else 2)"
   ]
  },
  {
   "cell_type": "markdown",
   "metadata": {},
   "source": [
    "### Добавим дополнительную информацию в наш датасет:\n",
    "* количество туристов в городе \n",
    "* средняя зарплата в городе\n",
    "* численность населения города"
   ]
  },
  {
   "cell_type": "code",
   "execution_count": 25,
   "metadata": {},
   "outputs": [],
   "source": [
    "# добавляем информацию по населению городу в млн чел\n",
    "population = {\n",
    "    'London': 8.98,\n",
    "    'Paris': 2.48,\n",
    "    'Madrid': 6.64,\n",
    "    'Barcelona': 5.58,\n",
    "    'Berlin': 3.77,\n",
    "    'Milan': 1.35,\n",
    "    'Rome': 2.87,\n",
    "    'Prague': 1.3,\n",
    "    'Lisbon': 0.5,\n",
    "    'Vienna': 1.9,\n",
    "    'Amsterdam': 0.8,\n",
    "    'Brussels': 0.174,\n",
    "    'Hamburg': 1.9,\n",
    "    'Munich': 1.472,\n",
    "    'Lyon': 0.5,\n",
    "    'Stockholm': 1,\n",
    "    'Budapest': 1.752,\n",
    "    'Warsaw': 1.708,\n",
    "    'Dublin': 1.388,\n",
    "    'Copenhagen': 0.6,\n",
    "    'Athens': 0.66,\n",
    "    'Edinburgh': 0.5,\n",
    "    'Zurich': 0.4,\n",
    "    'Oporto': 0.2,\n",
    "    'Geneva': 0.5,\n",
    "    'Krakow': 0.8,\n",
    "    'Oslo': 0.681,\n",
    "    'Helsinki': 0.631,\n",
    "    'Bratislava': 0.424,\n",
    "    'Luxembourg': 0.613,\n",
    "    'Ljubljana': 0.279\n",
    "}"
   ]
  },
  {
   "cell_type": "code",
   "execution_count": 26,
   "metadata": {},
   "outputs": [],
   "source": [
    "# добавляем информацию по зарплатам в EUR\n",
    "salary = {\n",
    "    'London': 2460,\n",
    "    'Paris': 3617,\n",
    "    'Madrid': 3000,\n",
    "    'Barcelona': 2700,\n",
    "    'Berlin': 3944,\n",
    "    'Milan': 2500,\n",
    "    'Rome': 1846,\n",
    "    'Prague': 1400,\n",
    "    'Lisbon': 860,\n",
    "    'Vienna': 3406,\n",
    "    'Amsterdam': 2855,\n",
    "    'Brussels': 3000,\n",
    "    'Hamburg': 3296,\n",
    "    'Munich': 3566,\n",
    "    'Lyon': 3455,\n",
    "    'Stockholm': 2700,\n",
    "    'Budapest': 750,\n",
    "    'Warsaw': 900,\n",
    "    'Dublin': 2500,\n",
    "    'Copenhagen': 2700,\n",
    "    'Athens': 1938,\n",
    "    'Edinburgh': 3000,\n",
    "    'Zurich': 4000,\n",
    "    'Oporto': 1901,\n",
    "    'Geneva': 6388,\n",
    "    'Krakow': 1652,\n",
    "    'Oslo': 2916,\n",
    "    'Helsinki': 2500,\n",
    "    'Bratislava': 1932,\n",
    "    'Luxembourg': 4000,\n",
    "    'Ljubljana': 1100\n",
    "}\n"
   ]
  },
  {
   "cell_type": "code",
   "execution_count": 27,
   "metadata": {},
   "outputs": [],
   "source": [
    "# добавляем информацию по кол-ву туристов в млн чел\n",
    "tourists = {\n",
    "    'London': 21.7,\n",
    "    'Paris': 50,\n",
    "    'Madrid': 7.6,\n",
    "    'Barcelona': 32,\n",
    "    'Berlin': 13.4,\n",
    "    'Milan': 11,\n",
    "    'Rome': 42,\n",
    "    'Prague': 6.67,\n",
    "    'Lisbon': 7,\n",
    "    'Vienna': 7,\n",
    "    'Amsterdam': 10,\n",
    "    'Brussels': 8.5,\n",
    "    'Hamburg': 5,\n",
    "    'Munich': 2.5,\n",
    "    'Lyon': 5,\n",
    "    'Stockholm': 1.8,\n",
    "    'Budapest': 2.8,\n",
    "    'Warsaw': 25,\n",
    "    'Dublin': 10.6,\n",
    "    'Copenhagen': 8.8,\n",
    "    'Athens': 5.7,\n",
    "    'Edinburgh': 3,\n",
    "    'Zurich': 10,\n",
    "    'Oporto': 13,\n",
    "    'Geneva': 5,\n",
    "    'Krakow': 8.1,\n",
    "    'Oslo': 5.8,\n",
    "    'Helsinki': 8.5,\n",
    "    'Bratislava': 1.4,\n",
    "    'Luxembourg': 5.6,\n",
    "    'Ljubljana': 5.9\n",
    "}"
   ]
  },
  {
   "cell_type": "markdown",
   "metadata": {},
   "source": [
    "#### Далее добавим нашу дополнительную информацию в датасет"
   ]
  },
  {
   "cell_type": "code",
   "execution_count": 28,
   "metadata": {},
   "outputs": [],
   "source": [
    "data['tourists'] = data['City'].apply(lambda x: tourists[x])\n",
    "data['population'] = data['City'].apply(lambda x: population[x])\n",
    "data['salary'] = data['City'].apply(lambda x: salary[x])"
   ]
  },
  {
   "cell_type": "markdown",
   "metadata": {},
   "source": [
    "#### Обработаем стоблец с информацией о стиле кухонь: вытащим из него количество кухонь в каждом ресторане"
   ]
  },
  {
   "cell_type": "code",
   "execution_count": 29,
   "metadata": {},
   "outputs": [],
   "source": [
    "# добавим количество кухонь в каждом ресторане, при отсутствии информации напишем \"No information\",\n",
    "# т.е. будем считать, что представлен как минимум один вид\n",
    "\n",
    "data['Cuisine Style'] = data['Cuisine Style'].fillna('No information]').apply(lambda x: x[x.find(\n",
    "    '[')+1:x.find(']')].replace(\"'\", '').replace(', ', ',').strip(' ').split(','))"
   ]
  },
  {
   "cell_type": "code",
   "execution_count": 30,
   "metadata": {},
   "outputs": [],
   "source": [
    "data['Cuisine_count'] = data['Cuisine Style'].apply(lambda x: len(x))"
   ]
  },
  {
   "cell_type": "markdown",
   "metadata": {},
   "source": [
    "#### Можно заметить, что список кухонь довольно таки велик, поэтому выведем топ упоминаний и сделаем дополнительные переменные на основе этой информации"
   ]
  },
  {
   "cell_type": "code",
   "execution_count": 31,
   "metadata": {},
   "outputs": [
    {
     "data": {
      "text/plain": [
       "[('Vegetarian Friendly', 14021),\n",
       " ('European', 12561),\n",
       " ('No information', 11590),\n",
       " ('Mediterranean', 7820),\n",
       " ('Italian', 7433),\n",
       " ('Vegan Options', 5684),\n",
       " ('Gluten Free Options', 5185)]"
      ]
     },
     "execution_count": 31,
     "metadata": {},
     "output_type": "execute_result"
    }
   ],
   "source": [
    "from collections import Counter\n",
    "\n",
    "сuisine_count = []\n",
    "for x in data['Cuisine Style']:\n",
    "    for i in x:\n",
    "        сuisine_count.append(i)\n",
    "Counter(сuisine_count).most_common()[0:7]"
   ]
  },
  {
   "cell_type": "markdown",
   "metadata": {},
   "source": [
    "#### Создадим новые признаки:\n",
    "* 1 - если топ кухня есть в ресторане\n",
    "* 0 - если кухни нет в списке"
   ]
  },
  {
   "cell_type": "code",
   "execution_count": 32,
   "metadata": {},
   "outputs": [],
   "source": [
    "data['Vegetarian Friendly'] = data['Cuisine Style'].apply(\n",
    "    lambda x: 1 if 'Vegetarian Friendly' in x else 0)\n",
    "data['European'] = data['Cuisine Style'].apply(\n",
    "    lambda x: 1 if 'European' in x else 0)\n",
    "data['Mediterranean'] = data['Cuisine Style'].apply(\n",
    "    lambda x: 1 if 'Mediterranean' in x else 0)\n",
    "data['Italian'] = data['Cuisine Style'].apply(\n",
    "    lambda x: 1 if 'Italian' in x else 0)\n",
    "data['Vegan Options'] = data['Cuisine Style'].apply(\n",
    "    lambda x: 1 if 'Vegan Options' in x else 0)\n",
    "data['Gluten Free Options'] = data['Cuisine Style'].apply(\n",
    "    lambda x: 1 if 'Gluten Free Options' in x else 0)"
   ]
  },
  {
   "cell_type": "markdown",
   "metadata": {},
   "source": [
    "#### Преобразуем стоблец ID_TA в числовой формат (возможно улучшит нашу модель)"
   ]
  },
  {
   "cell_type": "code",
   "execution_count": 33,
   "metadata": {},
   "outputs": [],
   "source": [
    "data['id_ta'] = data['ID_TA'].apply(lambda x: int(x[x.find('d')+1:]))"
   ]
  },
  {
   "cell_type": "markdown",
   "metadata": {},
   "source": [
    "#### Далее будем доставать данные о времени из стоблца Reviews:\n",
    "*  найдем дату первого отзыва\n",
    "*  найдем дату последнего отзыва\n",
    "*  найдем разницу в днях между этими отзывами\n",
    "*  пропуски заполним минимальным значением (для первой даты)\n",
    "*  максимальным значением (для последней даты)\n",
    "* добавим день недели последнего отзыва"
   ]
  },
  {
   "cell_type": "code",
   "execution_count": 34,
   "metadata": {},
   "outputs": [
    {
     "data": {
      "text/plain": [
       "2"
      ]
     },
     "execution_count": 34,
     "metadata": {},
     "output_type": "execute_result"
    }
   ],
   "source": [
    "data['Reviews'].isna().sum()"
   ]
  },
  {
   "cell_type": "code",
   "execution_count": 35,
   "metadata": {},
   "outputs": [],
   "source": [
    "# заполним пропуски модой\n",
    "data['Reviews'] = data['Reviews'].fillna(\n",
    "    data['Reviews'].mode().iloc[0])"
   ]
  },
  {
   "cell_type": "code",
   "execution_count": 36,
   "metadata": {},
   "outputs": [],
   "source": [
    "#ф-ция для обработки времени \n",
    "def date_(x):\n",
    "    if x == '[[], []]':\n",
    "        return []\n",
    "    else:\n",
    "        x = x.replace(']]', '')\n",
    "        x = x.replace(\"'\", '')\n",
    "        x = x.split('], [')[1]\n",
    "        x = x.split(', ')\n",
    "        return x"
   ]
  },
  {
   "cell_type": "code",
   "execution_count": 37,
   "metadata": {},
   "outputs": [],
   "source": [
    "# работаем с датой \n",
    "data['Reviews_date'] = data['Reviews'].apply(date_)\n",
    "data['Reviews_date_first'] = data['Reviews_date'].apply(\n",
    "    lambda x: x[1] if len(x) == 2 else None)\n",
    "data['Reviews_date_last'] = data['Reviews_date'].apply(\n",
    "    lambda x: x[0] if len(x) > 0 else None)\n",
    "\n",
    "# Преобразуем в формат дат\n",
    "data['Reviews_date_first'] = pd.to_datetime(data['Reviews_date_first'])\n",
    "data['Reviews_date_last'] = pd.to_datetime(data['Reviews_date_last'])"
   ]
  },
  {
   "cell_type": "code",
   "execution_count": 38,
   "metadata": {},
   "outputs": [],
   "source": [
    "# заполним пропуски\n",
    "data['Reviews_date_first'] = data['Reviews_date_first'].fillna(\n",
    "    data['Reviews_date_first'].min())\n",
    "data['Reviews_date_last'] = data['Reviews_date_last'].fillna(\n",
    "    data['Reviews_date_last'].max())"
   ]
  },
  {
   "cell_type": "code",
   "execution_count": 39,
   "metadata": {},
   "outputs": [],
   "source": [
    "# считаем дельту в днях\n",
    "data['Delta_days'] = data['Reviews_date_last'] - data['Reviews_date_first']\n",
    "data['Delta_days'] = data['Delta_days'].apply(lambda x: x.days)"
   ]
  },
  {
   "cell_type": "code",
   "execution_count": 40,
   "metadata": {},
   "outputs": [],
   "source": [
    "# смотрим день недели последнего отзыва\n",
    "data['Day_of_week_last_review'] = data['Reviews_date_last'].dt.dayofweek"
   ]
  },
  {
   "cell_type": "code",
   "execution_count": 41,
   "metadata": {},
   "outputs": [
    {
     "name": "stdout",
     "output_type": "stream",
     "text": [
      "<class 'pandas.core.frame.DataFrame'>\n",
      "RangeIndex: 50000 entries, 0 to 49999\n",
      "Data columns (total 31 columns):\n",
      "Restaurant_id              50000 non-null object\n",
      "City                       50000 non-null object\n",
      "Cuisine Style              50000 non-null object\n",
      "Ranking                    50000 non-null float64\n",
      "Price Range                50000 non-null int64\n",
      "Number of Reviews          50000 non-null float64\n",
      "Reviews                    50000 non-null object\n",
      "URL_TA                     50000 non-null object\n",
      "ID_TA                      50000 non-null object\n",
      "sample                     50000 non-null int64\n",
      "Rating                     50000 non-null float64\n",
      "Cuisine Style_isNAN        50000 non-null uint8\n",
      "Price Range_isNAN          50000 non-null uint8\n",
      "Number of ReviewsNAN       50000 non-null uint8\n",
      "Cuisine StyleNAN           50000 non-null uint8\n",
      "tourists                   50000 non-null float64\n",
      "population                 50000 non-null float64\n",
      "salary                     50000 non-null int64\n",
      "Cuisine_count              50000 non-null int64\n",
      "Vegetarian Friendly        50000 non-null int64\n",
      "European                   50000 non-null int64\n",
      "Mediterranean              50000 non-null int64\n",
      "Italian                    50000 non-null int64\n",
      "Vegan Options              50000 non-null int64\n",
      "Gluten Free Options        50000 non-null int64\n",
      "id_ta                      50000 non-null int64\n",
      "Reviews_date               50000 non-null object\n",
      "Reviews_date_first         50000 non-null datetime64[ns]\n",
      "Reviews_date_last          50000 non-null datetime64[ns]\n",
      "Delta_days                 50000 non-null int64\n",
      "Day_of_week_last_review    50000 non-null int64\n",
      "dtypes: datetime64[ns](2), float64(5), int64(13), object(7), uint8(4)\n",
      "memory usage: 10.5+ MB\n"
     ]
    }
   ],
   "source": [
    "data.info()"
   ]
  },
  {
   "cell_type": "code",
   "execution_count": 42,
   "metadata": {},
   "outputs": [],
   "source": [
    "#### Стандартизация не привела к улучшению модели\n",
    "#### upd. позже была найдена информация, что нормализация/стандартизация не влияют на качество данной модели :("
   ]
  },
  {
   "cell_type": "code",
   "execution_count": 43,
   "metadata": {},
   "outputs": [],
   "source": [
    "# Стандартизация\n",
    "#from sklearn.preprocessing import StandardScaler\n",
    "#scaler = StandardScaler()\n",
    "#df[['population', 'salary', 'tourists', 'Ranking', 'Number of Reviews', 'Cuisine_count',\n",
    "#    'id_ta', 'Delta_days']] = scaler.fit_transform(df[['population', 'salary', 'tourists', 'Ranking', 'Number of Reviews', 'Cuisine_count',\n",
    "#                                                       'id_ta', 'Delta_days']])"
   ]
  },
  {
   "cell_type": "markdown",
   "metadata": {},
   "source": [
    "# EDA \n",
    "[Exploratory Data Analysis](https://ru.wikipedia.org/wiki/Разведочный_анализ_данных) - Анализ данных\n",
    "На этом этапе мы строим графики, ищем закономерности, аномалии, выбросы или связи между признаками.\n",
    "В общем цель этого этапа понять, что эти данные могут нам дать и как признаки могут быть взаимосвязаны между собой.\n",
    "Понимание изначальных признаков позволит сгенерировать новые, более сильные и, тем самым, сделать нашу модель лучше.\n",
    "![](https://miro.medium.com/max/2598/1*RXdMb7Uk6mGqWqPguHULaQ.png)"
   ]
  },
  {
   "cell_type": "markdown",
   "metadata": {},
   "source": [
    "### Посмотрим распределение признака"
   ]
  },
  {
   "cell_type": "code",
   "execution_count": 44,
   "metadata": {},
   "outputs": [
    {
     "data": {
      "text/plain": [
       "<matplotlib.axes._subplots.AxesSubplot at 0x7f4882223f60>"
      ]
     },
     "execution_count": 44,
     "metadata": {},
     "output_type": "execute_result"
    },
    {
     "data": {
      "image/png": "[encoded data removed]",
      "text/plain": [
       "<Figure size 720x504 with 1 Axes>"
      ]
     },
     "metadata": {
      "needs_background": "light"
     },
     "output_type": "display_data"
    }
   ],
   "source": [
    "plt.rcParams['figure.figsize'] = (10,7)\n",
    "df_train['Ranking'].hist(bins=100)"
   ]
  },
  {
   "cell_type": "markdown",
   "metadata": {},
   "source": [
    "У нас много ресторанов, которые не дотягивают и до 2500 места в своем городе, а что там по городам?"
   ]
  },
  {
   "cell_type": "code",
   "execution_count": 45,
   "metadata": {},
   "outputs": [
    {
     "data": {
      "text/plain": [
       "<matplotlib.axes._subplots.AxesSubplot at 0x7f4882223e48>"
      ]
     },
     "execution_count": 45,
     "metadata": {},
     "output_type": "execute_result"
    },
    {
     "data": {
      "image/png": "[encoded data removed]",
      "text/plain": [
       "<Figure size 720x504 with 1 Axes>"
      ]
     },
     "metadata": {
      "needs_background": "light"
     },
     "output_type": "display_data"
    }
   ],
   "source": [
    "df_train['City'].value_counts(ascending=True).plot(kind='barh')"
   ]
  },
  {
   "cell_type": "markdown",
   "metadata": {},
   "source": [
    "А кто-то говорил, что французы любят поесть=) Посмотрим, как изменится распределение в большом городе:"
   ]
  },
  {
   "cell_type": "code",
   "execution_count": 46,
   "metadata": {},
   "outputs": [
    {
     "data": {
      "text/plain": [
       "<matplotlib.axes._subplots.AxesSubplot at 0x7f4882245748>"
      ]
     },
     "execution_count": 46,
     "metadata": {},
     "output_type": "execute_result"
    },
    {
     "data": {
      "image/png": "[encoded data removed]",
      "text/plain": [
       "<Figure size 720x504 with 1 Axes>"
      ]
     },
     "metadata": {
      "needs_background": "light"
     },
     "output_type": "display_data"
    }
   ],
   "source": [
    "df_train['Ranking'][df_train['City'] =='London'].hist(bins=100)"
   ]
  },
  {
   "cell_type": "code",
   "execution_count": 47,
   "metadata": {},
   "outputs": [
    {
     "data": {
      "image/png": "[encoded data removed]",
      "text/plain": [
       "<Figure size 720x504 with 1 Axes>"
      ]
     },
     "metadata": {
      "needs_background": "light"
     },
     "output_type": "display_data"
    }
   ],
   "source": [
    "# посмотрим на топ 10 городов\n",
    "for x in (df_train['City'].value_counts())[0:10].index:\n",
    "    df_train['Ranking'][df_train['City'] == x].hist(bins=100)\n",
    "plt.show()"
   ]
  },
  {
   "cell_type": "markdown",
   "metadata": {},
   "source": [
    "Получается, что Ranking имеет нормальное распределение, просто в больших городах больше ресторанов, из-за мы этого имеем смещение."
   ]
  },
  {
   "cell_type": "markdown",
   "metadata": {},
   "source": [
    "### Посмотрим распределение целевой переменной"
   ]
  },
  {
   "cell_type": "code",
   "execution_count": 48,
   "metadata": {},
   "outputs": [
    {
     "data": {
      "text/plain": [
       "<matplotlib.axes._subplots.AxesSubplot at 0x7f48814c7d30>"
      ]
     },
     "execution_count": 48,
     "metadata": {},
     "output_type": "execute_result"
    },
    {
     "data": {
      "image/png": "[encoded data removed]",
      "text/plain": [
       "<Figure size 720x504 with 1 Axes>"
      ]
     },
     "metadata": {
      "needs_background": "light"
     },
     "output_type": "display_data"
    }
   ],
   "source": [
    "df_train['Rating'].value_counts(ascending=True).plot(kind='barh')"
   ]
  },
  {
   "cell_type": "markdown",
   "metadata": {},
   "source": [
    "### Посмотрим распределение целевой переменной относительно признака"
   ]
  },
  {
   "cell_type": "code",
   "execution_count": 49,
   "metadata": {},
   "outputs": [
    {
     "data": {
      "text/plain": [
       "<matplotlib.axes._subplots.AxesSubplot at 0x7f487f2aca58>"
      ]
     },
     "execution_count": 49,
     "metadata": {},
     "output_type": "execute_result"
    },
    {
     "data": {
      "image/png": "[encoded data removed]",
      "text/plain": [
       "<Figure size 720x504 with 1 Axes>"
      ]
     },
     "metadata": {
      "needs_background": "light"
     },
     "output_type": "display_data"
    }
   ],
   "source": [
    "df_train['Ranking'][df_train['Rating'] == 5].hist(bins=100)"
   ]
  },
  {
   "cell_type": "code",
   "execution_count": 50,
   "metadata": {},
   "outputs": [
    {
     "data": {
      "text/plain": [
       "<matplotlib.axes._subplots.AxesSubplot at 0x7f487f25a9b0>"
      ]
     },
     "execution_count": 50,
     "metadata": {},
     "output_type": "execute_result"
    },
    {
     "data": {
      "image/png": "[encoded data removed]",
      "text/plain": [
       "<Figure size 720x504 with 1 Axes>"
      ]
     },
     "metadata": {
      "needs_background": "light"
     },
     "output_type": "display_data"
    }
   ],
   "source": [
    "df_train['Ranking'][df_train['Rating'] < 4].hist(bins=100)"
   ]
  },
  {
   "cell_type": "markdown",
   "metadata": {},
   "source": [
    "### И один из моих любимых - [корреляция признаков](https://ru.wikipedia.org/wiki/Корреляция)\n",
    "На этом графике уже сейчас вы сможете заметить, как признаки связаны между собой и с целевой переменной."
   ]
  },
  {
   "cell_type": "code",
   "execution_count": 51,
   "metadata": {},
   "outputs": [
    {
     "data": {
      "text/plain": [
       "<matplotlib.axes._subplots.AxesSubplot at 0x7f487ec3df28>"
      ]
     },
     "execution_count": 51,
     "metadata": {},
     "output_type": "execute_result"
    },
    {
     "data": {
      "image/png": "[encoded data removed]",
      "text/plain": [
       "<Figure size 1080x720 with 2 Axes>"
      ]
     },
     "metadata": {
      "needs_background": "light"
     },
     "output_type": "display_data"
    }
   ],
   "source": [
    "plt.rcParams['figure.figsize'] = (15,10)\n",
    "sns.heatmap(data.drop(['sample'], axis=1).corr(),)"
   ]
  },
  {
   "cell_type": "markdown",
   "metadata": {},
   "source": [
    "# Feature Engineering"
   ]
  },
  {
   "cell_type": "markdown",
   "metadata": {},
   "source": [
    "#### Добавим несколько новых признаков на основе информации, взятой из внешних источников"
   ]
  },
  {
   "cell_type": "code",
   "execution_count": 52,
   "metadata": {},
   "outputs": [],
   "source": [
    "# количество ресторанов в зависимости от города\n",
    "rest_count = data['City'].value_counts().to_dict()\n",
    "data['rest_count'] = data['City'].apply(lambda x: rest_count[x])"
   ]
  },
  {
   "cell_type": "code",
   "execution_count": 53,
   "metadata": {},
   "outputs": [],
   "source": [
    "# количество ресторанов на одного туриста\n",
    "data['rest_count_on_one_tourist'] = data['rest_count'] / data['tourists']"
   ]
  },
  {
   "cell_type": "code",
   "execution_count": 54,
   "metadata": {},
   "outputs": [],
   "source": [
    "# количество отзывов на один ресторан\n",
    "data['review_on_one_rest'] = data['Number of Reviews'] / data['rest_count']"
   ]
  },
  {
   "cell_type": "code",
   "execution_count": 55,
   "metadata": {},
   "outputs": [],
   "source": [
    "# количество отзывов в зависимости от кол-ва туристов\n",
    "data['review_on_one_rest_tour'] = data['Number of Reviews'] / data['tourists']"
   ]
  },
  {
   "cell_type": "code",
   "execution_count": 56,
   "metadata": {},
   "outputs": [],
   "source": [
    "# ранг делим на кол-во ресторанов (чем выше - тем хуже)\n",
    "data['Ranking_rest_count'] = data['Ranking'] / data['rest_count']"
   ]
  },
  {
   "cell_type": "markdown",
   "metadata": {},
   "source": [
    "#### Создадим dummy-переменные для стоблца City"
   ]
  },
  {
   "cell_type": "code",
   "execution_count": 57,
   "metadata": {},
   "outputs": [],
   "source": [
    "data = pd.get_dummies(data, columns=[ 'City',], dummy_na=True)"
   ]
  },
  {
   "cell_type": "code",
   "execution_count": 58,
   "metadata": {},
   "outputs": [],
   "source": [
    "data = data.drop(['Restaurant_id','Cuisine Style', 'Reviews', 'URL_TA', 'ID_TA',\n",
    "              'Reviews_date', 'Reviews_date_first', 'Reviews_date_last'], axis=1)"
   ]
  },
  {
   "cell_type": "code",
   "execution_count": 59,
   "metadata": {},
   "outputs": [],
   "source": [
    "# Теперь выделим тестовую часть\n",
    "train_data = data.query('sample == 1').drop(['sample'], axis=1)\n",
    "test_data = data.query('sample == 0').drop(['sample'], axis=1)\n",
    "\n",
    "y = train_data.Rating.values            # наш таргет\n",
    "X = train_data.drop(['Rating'], axis=1)"
   ]
  },
  {
   "cell_type": "markdown",
   "metadata": {},
   "source": [
    "**Перед тем как отправлять наши данные на обучение, разделим данные на еще один тест и трейн, для валидации. \n",
    "Это поможет нам проверить, как хорошо наша модель работает, до отправки submissiona на kaggle.**"
   ]
  },
  {
   "cell_type": "code",
   "execution_count": 60,
   "metadata": {},
   "outputs": [],
   "source": [
    "# Воспользуемся специальной функцие train_test_split для разбивки тестовых данных\n",
    "# выделим 20% данных на валидацию (параметр test_size)\n",
    "X_train, X_test, y_train, y_test = train_test_split(X, y, test_size=0.2, random_state=RANDOM_SEED)"
   ]
  },
  {
   "cell_type": "code",
   "execution_count": 61,
   "metadata": {},
   "outputs": [
    {
     "data": {
      "text/plain": [
       "((10000, 58), (40000, 58), (40000, 57), (32000, 57), (8000, 57))"
      ]
     },
     "execution_count": 61,
     "metadata": {},
     "output_type": "execute_result"
    }
   ],
   "source": [
    "# проверяем\n",
    "test_data.shape, train_data.shape, X.shape, X_train.shape, X_test.shape"
   ]
  },
  {
   "cell_type": "markdown",
   "metadata": {},
   "source": [
    "# Model \n",
    "Сам ML"
   ]
  },
  {
   "cell_type": "code",
   "execution_count": 62,
   "metadata": {},
   "outputs": [],
   "source": [
    "# Импортируем необходимые библиотеки:\n",
    "from sklearn.ensemble import RandomForestRegressor # инструмент для создания и обучения модели\n",
    "from sklearn import metrics # инструменты для оценки точности модели"
   ]
  },
  {
   "cell_type": "code",
   "execution_count": 63,
   "metadata": {},
   "outputs": [],
   "source": [
    "# Создаём модель (НАСТРОЙКИ НЕ ТРОГАЕМ)\n",
    "model = RandomForestRegressor(n_estimators=100, verbose=1, n_jobs=-1, random_state=RANDOM_SEED)"
   ]
  },
  {
   "cell_type": "code",
   "execution_count": 64,
   "metadata": {},
   "outputs": [
    {
     "name": "stderr",
     "output_type": "stream",
     "text": [
      "[Parallel(n_jobs=-1)]: Using backend ThreadingBackend with 4 concurrent workers.\n",
      "[Parallel(n_jobs=-1)]: Done  42 tasks      | elapsed:    5.7s\n",
      "[Parallel(n_jobs=-1)]: Done 100 out of 100 | elapsed:   12.7s finished\n",
      "[Parallel(n_jobs=4)]: Using backend ThreadingBackend with 4 concurrent workers.\n",
      "[Parallel(n_jobs=4)]: Done  42 tasks      | elapsed:    0.0s\n",
      "[Parallel(n_jobs=4)]: Done 100 out of 100 | elapsed:    0.1s finished\n"
     ]
    }
   ],
   "source": [
    "# Обучаем модель на тестовом наборе данных\n",
    "model.fit(X_train, y_train)\n",
    "\n",
    "# Используем обученную модель для предсказания рейтинга ресторанов в тестовой выборке.\n",
    "# Предсказанные значения записываем в переменную y_pred\n",
    "y_pred = model.predict(X_test)"
   ]
  },
  {
   "cell_type": "code",
   "execution_count": 65,
   "metadata": {},
   "outputs": [
    {
     "name": "stdout",
     "output_type": "stream",
     "text": [
      "MAE: 0.20007187499999998\n"
     ]
    }
   ],
   "source": [
    "# Сравниваем предсказанные значения (y_pred) с реальными (y_test), и смотрим насколько они в среднем отличаются\n",
    "# Метрика называется Mean Absolute Error (MAE) и показывает среднее отклонение предсказанных значений от фактических.\n",
    "print('MAE:', metrics.mean_absolute_error(y_test, y_pred))"
   ]
  },
  {
   "cell_type": "code",
   "execution_count": 66,
   "metadata": {},
   "outputs": [
    {
     "data": {
      "text/plain": [
       "<matplotlib.axes._subplots.AxesSubplot at 0x7f4883270f28>"
      ]
     },
     "execution_count": 66,
     "metadata": {},
     "output_type": "execute_result"
    },
    {
     "data": {
      "image/png": "[encoded data removed]",
      "text/plain": [
       "<Figure size 720x720 with 1 Axes>"
      ]
     },
     "metadata": {
      "needs_background": "light"
     },
     "output_type": "display_data"
    }
   ],
   "source": [
    "# в RandomForestRegressor есть возможность вывести самые важные признаки для модели\n",
    "plt.rcParams['figure.figsize'] = (10,10)\n",
    "feat_importances = pd.Series(model.feature_importances_, index=X.columns)\n",
    "feat_importances.nlargest(15).plot(kind='barh')"
   ]
  },
  {
   "cell_type": "markdown",
   "metadata": {},
   "source": [
    "# Submission\n",
    "Если все устраевает - готовим Submission на кагл"
   ]
  },
  {
   "cell_type": "code",
   "execution_count": 67,
   "metadata": {},
   "outputs": [
    {
     "data": {
      "text/html": [
       "<div>\n",
       "<style scoped>\n",
       "    .dataframe tbody tr th:only-of-type {\n",
       "        vertical-align: middle;\n",
       "    }\n",
       "\n",
       "    .dataframe tbody tr th {\n",
       "        vertical-align: top;\n",
       "    }\n",
       "\n",
       "    .dataframe thead th {\n",
       "        text-align: right;\n",
       "    }\n",
       "</style>\n",
       "<table border=\"1\" class=\"dataframe\">\n",
       "  <thead>\n",
       "    <tr style=\"text-align: right;\">\n",
       "      <th></th>\n",
       "      <th>Ranking</th>\n",
       "      <th>Price Range</th>\n",
       "      <th>Number of Reviews</th>\n",
       "      <th>Rating</th>\n",
       "      <th>Cuisine Style_isNAN</th>\n",
       "      <th>Price Range_isNAN</th>\n",
       "      <th>Number of ReviewsNAN</th>\n",
       "      <th>Cuisine StyleNAN</th>\n",
       "      <th>tourists</th>\n",
       "      <th>population</th>\n",
       "      <th>...</th>\n",
       "      <th>City_Oporto</th>\n",
       "      <th>City_Oslo</th>\n",
       "      <th>City_Paris</th>\n",
       "      <th>City_Prague</th>\n",
       "      <th>City_Rome</th>\n",
       "      <th>City_Stockholm</th>\n",
       "      <th>City_Vienna</th>\n",
       "      <th>City_Warsaw</th>\n",
       "      <th>City_Zurich</th>\n",
       "      <th>City_nan</th>\n",
       "    </tr>\n",
       "  </thead>\n",
       "  <tbody>\n",
       "    <tr>\n",
       "      <th>1159</th>\n",
       "      <td>6321.0</td>\n",
       "      <td>2</td>\n",
       "      <td>38.0</td>\n",
       "      <td>0.0</td>\n",
       "      <td>0</td>\n",
       "      <td>0</td>\n",
       "      <td>0</td>\n",
       "      <td>0</td>\n",
       "      <td>50.0</td>\n",
       "      <td>2.480</td>\n",
       "      <td>...</td>\n",
       "      <td>0</td>\n",
       "      <td>0</td>\n",
       "      <td>1</td>\n",
       "      <td>0</td>\n",
       "      <td>0</td>\n",
       "      <td>0</td>\n",
       "      <td>0</td>\n",
       "      <td>0</td>\n",
       "      <td>0</td>\n",
       "      <td>0</td>\n",
       "    </tr>\n",
       "    <tr>\n",
       "      <th>9958</th>\n",
       "      <td>2895.0</td>\n",
       "      <td>2</td>\n",
       "      <td>27.0</td>\n",
       "      <td>0.0</td>\n",
       "      <td>1</td>\n",
       "      <td>1</td>\n",
       "      <td>0</td>\n",
       "      <td>1</td>\n",
       "      <td>13.4</td>\n",
       "      <td>3.770</td>\n",
       "      <td>...</td>\n",
       "      <td>0</td>\n",
       "      <td>0</td>\n",
       "      <td>0</td>\n",
       "      <td>0</td>\n",
       "      <td>0</td>\n",
       "      <td>0</td>\n",
       "      <td>0</td>\n",
       "      <td>0</td>\n",
       "      <td>0</td>\n",
       "      <td>0</td>\n",
       "    </tr>\n",
       "    <tr>\n",
       "      <th>7253</th>\n",
       "      <td>4797.0</td>\n",
       "      <td>2</td>\n",
       "      <td>23.0</td>\n",
       "      <td>0.0</td>\n",
       "      <td>0</td>\n",
       "      <td>1</td>\n",
       "      <td>0</td>\n",
       "      <td>0</td>\n",
       "      <td>11.0</td>\n",
       "      <td>1.350</td>\n",
       "      <td>...</td>\n",
       "      <td>0</td>\n",
       "      <td>0</td>\n",
       "      <td>0</td>\n",
       "      <td>0</td>\n",
       "      <td>0</td>\n",
       "      <td>0</td>\n",
       "      <td>0</td>\n",
       "      <td>0</td>\n",
       "      <td>0</td>\n",
       "      <td>0</td>\n",
       "    </tr>\n",
       "    <tr>\n",
       "      <th>4104</th>\n",
       "      <td>2140.0</td>\n",
       "      <td>1</td>\n",
       "      <td>174.0</td>\n",
       "      <td>0.0</td>\n",
       "      <td>0</td>\n",
       "      <td>0</td>\n",
       "      <td>0</td>\n",
       "      <td>0</td>\n",
       "      <td>42.0</td>\n",
       "      <td>2.870</td>\n",
       "      <td>...</td>\n",
       "      <td>0</td>\n",
       "      <td>0</td>\n",
       "      <td>0</td>\n",
       "      <td>0</td>\n",
       "      <td>1</td>\n",
       "      <td>0</td>\n",
       "      <td>0</td>\n",
       "      <td>0</td>\n",
       "      <td>0</td>\n",
       "      <td>0</td>\n",
       "    </tr>\n",
       "    <tr>\n",
       "      <th>2713</th>\n",
       "      <td>1703.0</td>\n",
       "      <td>2</td>\n",
       "      <td>35.0</td>\n",
       "      <td>0.0</td>\n",
       "      <td>1</td>\n",
       "      <td>1</td>\n",
       "      <td>0</td>\n",
       "      <td>1</td>\n",
       "      <td>5.0</td>\n",
       "      <td>0.500</td>\n",
       "      <td>...</td>\n",
       "      <td>0</td>\n",
       "      <td>0</td>\n",
       "      <td>0</td>\n",
       "      <td>0</td>\n",
       "      <td>0</td>\n",
       "      <td>0</td>\n",
       "      <td>0</td>\n",
       "      <td>0</td>\n",
       "      <td>0</td>\n",
       "      <td>0</td>\n",
       "    </tr>\n",
       "    <tr>\n",
       "      <th>895</th>\n",
       "      <td>6342.0</td>\n",
       "      <td>2</td>\n",
       "      <td>2.0</td>\n",
       "      <td>0.0</td>\n",
       "      <td>1</td>\n",
       "      <td>1</td>\n",
       "      <td>1</td>\n",
       "      <td>1</td>\n",
       "      <td>13.4</td>\n",
       "      <td>3.770</td>\n",
       "      <td>...</td>\n",
       "      <td>0</td>\n",
       "      <td>0</td>\n",
       "      <td>0</td>\n",
       "      <td>0</td>\n",
       "      <td>0</td>\n",
       "      <td>0</td>\n",
       "      <td>0</td>\n",
       "      <td>0</td>\n",
       "      <td>0</td>\n",
       "      <td>0</td>\n",
       "    </tr>\n",
       "    <tr>\n",
       "      <th>7989</th>\n",
       "      <td>4385.0</td>\n",
       "      <td>2</td>\n",
       "      <td>5.0</td>\n",
       "      <td>0.0</td>\n",
       "      <td>0</td>\n",
       "      <td>1</td>\n",
       "      <td>0</td>\n",
       "      <td>0</td>\n",
       "      <td>13.4</td>\n",
       "      <td>3.770</td>\n",
       "      <td>...</td>\n",
       "      <td>0</td>\n",
       "      <td>0</td>\n",
       "      <td>0</td>\n",
       "      <td>0</td>\n",
       "      <td>0</td>\n",
       "      <td>0</td>\n",
       "      <td>0</td>\n",
       "      <td>0</td>\n",
       "      <td>0</td>\n",
       "      <td>0</td>\n",
       "    </tr>\n",
       "    <tr>\n",
       "      <th>4114</th>\n",
       "      <td>420.0</td>\n",
       "      <td>1</td>\n",
       "      <td>617.0</td>\n",
       "      <td>0.0</td>\n",
       "      <td>0</td>\n",
       "      <td>0</td>\n",
       "      <td>0</td>\n",
       "      <td>0</td>\n",
       "      <td>2.8</td>\n",
       "      <td>1.752</td>\n",
       "      <td>...</td>\n",
       "      <td>0</td>\n",
       "      <td>0</td>\n",
       "      <td>0</td>\n",
       "      <td>0</td>\n",
       "      <td>0</td>\n",
       "      <td>0</td>\n",
       "      <td>0</td>\n",
       "      <td>0</td>\n",
       "      <td>0</td>\n",
       "      <td>0</td>\n",
       "    </tr>\n",
       "    <tr>\n",
       "      <th>9178</th>\n",
       "      <td>11443.0</td>\n",
       "      <td>2</td>\n",
       "      <td>29.0</td>\n",
       "      <td>0.0</td>\n",
       "      <td>0</td>\n",
       "      <td>0</td>\n",
       "      <td>0</td>\n",
       "      <td>0</td>\n",
       "      <td>50.0</td>\n",
       "      <td>2.480</td>\n",
       "      <td>...</td>\n",
       "      <td>0</td>\n",
       "      <td>0</td>\n",
       "      <td>1</td>\n",
       "      <td>0</td>\n",
       "      <td>0</td>\n",
       "      <td>0</td>\n",
       "      <td>0</td>\n",
       "      <td>0</td>\n",
       "      <td>0</td>\n",
       "      <td>0</td>\n",
       "    </tr>\n",
       "    <tr>\n",
       "      <th>79</th>\n",
       "      <td>13175.0</td>\n",
       "      <td>2</td>\n",
       "      <td>3.0</td>\n",
       "      <td>0.0</td>\n",
       "      <td>1</td>\n",
       "      <td>1</td>\n",
       "      <td>0</td>\n",
       "      <td>1</td>\n",
       "      <td>50.0</td>\n",
       "      <td>2.480</td>\n",
       "      <td>...</td>\n",
       "      <td>0</td>\n",
       "      <td>0</td>\n",
       "      <td>1</td>\n",
       "      <td>0</td>\n",
       "      <td>0</td>\n",
       "      <td>0</td>\n",
       "      <td>0</td>\n",
       "      <td>0</td>\n",
       "      <td>0</td>\n",
       "      <td>0</td>\n",
       "    </tr>\n",
       "  </tbody>\n",
       "</table>\n",
       "<p>10 rows × 58 columns</p>\n",
       "</div>"
      ],
      "text/plain": [
       "      Ranking  Price Range  Number of Reviews  Rating  Cuisine Style_isNAN  \\\n",
       "1159   6321.0            2               38.0     0.0                    0   \n",
       "9958   2895.0            2               27.0     0.0                    1   \n",
       "7253   4797.0            2               23.0     0.0                    0   \n",
       "4104   2140.0            1              174.0     0.0                    0   \n",
       "2713   1703.0            2               35.0     0.0                    1   \n",
       "895    6342.0            2                2.0     0.0                    1   \n",
       "7989   4385.0            2                5.0     0.0                    0   \n",
       "4114    420.0            1              617.0     0.0                    0   \n",
       "9178  11443.0            2               29.0     0.0                    0   \n",
       "79    13175.0            2                3.0     0.0                    1   \n",
       "\n",
       "      Price Range_isNAN  Number of ReviewsNAN  Cuisine StyleNAN  tourists  \\\n",
       "1159                  0                     0                 0      50.0   \n",
       "9958                  1                     0                 1      13.4   \n",
       "7253                  1                     0                 0      11.0   \n",
       "4104                  0                     0                 0      42.0   \n",
       "2713                  1                     0                 1       5.0   \n",
       "895                   1                     1                 1      13.4   \n",
       "7989                  1                     0                 0      13.4   \n",
       "4114                  0                     0                 0       2.8   \n",
       "9178                  0                     0                 0      50.0   \n",
       "79                    1                     0                 1      50.0   \n",
       "\n",
       "      population  ...  City_Oporto  City_Oslo  City_Paris  City_Prague  \\\n",
       "1159       2.480  ...            0          0           1            0   \n",
       "9958       3.770  ...            0          0           0            0   \n",
       "7253       1.350  ...            0          0           0            0   \n",
       "4104       2.870  ...            0          0           0            0   \n",
       "2713       0.500  ...            0          0           0            0   \n",
       "895        3.770  ...            0          0           0            0   \n",
       "7989       3.770  ...            0          0           0            0   \n",
       "4114       1.752  ...            0          0           0            0   \n",
       "9178       2.480  ...            0          0           1            0   \n",
       "79         2.480  ...            0          0           1            0   \n",
       "\n",
       "      City_Rome  City_Stockholm  City_Vienna  City_Warsaw  City_Zurich  \\\n",
       "1159          0               0            0            0            0   \n",
       "9958          0               0            0            0            0   \n",
       "7253          0               0            0            0            0   \n",
       "4104          1               0            0            0            0   \n",
       "2713          0               0            0            0            0   \n",
       "895           0               0            0            0            0   \n",
       "7989          0               0            0            0            0   \n",
       "4114          0               0            0            0            0   \n",
       "9178          0               0            0            0            0   \n",
       "79            0               0            0            0            0   \n",
       "\n",
       "      City_nan  \n",
       "1159         0  \n",
       "9958         0  \n",
       "7253         0  \n",
       "4104         0  \n",
       "2713         0  \n",
       "895          0  \n",
       "7989         0  \n",
       "4114         0  \n",
       "9178         0  \n",
       "79           0  \n",
       "\n",
       "[10 rows x 58 columns]"
      ]
     },
     "execution_count": 67,
     "metadata": {},
     "output_type": "execute_result"
    }
   ],
   "source": [
    "test_data.sample(10)"
   ]
  },
  {
   "cell_type": "code",
   "execution_count": 68,
   "metadata": {},
   "outputs": [],
   "source": [
    "test_data = test_data.drop(['Rating'], axis=1)"
   ]
  },
  {
   "cell_type": "code",
   "execution_count": 69,
   "metadata": {},
   "outputs": [
    {
     "data": {
      "text/html": [
       "<div>\n",
       "<style scoped>\n",
       "    .dataframe tbody tr th:only-of-type {\n",
       "        vertical-align: middle;\n",
       "    }\n",
       "\n",
       "    .dataframe tbody tr th {\n",
       "        vertical-align: top;\n",
       "    }\n",
       "\n",
       "    .dataframe thead th {\n",
       "        text-align: right;\n",
       "    }\n",
       "</style>\n",
       "<table border=\"1\" class=\"dataframe\">\n",
       "  <thead>\n",
       "    <tr style=\"text-align: right;\">\n",
       "      <th></th>\n",
       "      <th>Restaurant_id</th>\n",
       "      <th>Rating</th>\n",
       "    </tr>\n",
       "  </thead>\n",
       "  <tbody>\n",
       "    <tr>\n",
       "      <th>0</th>\n",
       "      <td>id_0</td>\n",
       "      <td>2.0</td>\n",
       "    </tr>\n",
       "    <tr>\n",
       "      <th>1</th>\n",
       "      <td>id_1</td>\n",
       "      <td>2.5</td>\n",
       "    </tr>\n",
       "    <tr>\n",
       "      <th>2</th>\n",
       "      <td>id_2</td>\n",
       "      <td>4.0</td>\n",
       "    </tr>\n",
       "    <tr>\n",
       "      <th>3</th>\n",
       "      <td>id_3</td>\n",
       "      <td>1.0</td>\n",
       "    </tr>\n",
       "    <tr>\n",
       "      <th>4</th>\n",
       "      <td>id_4</td>\n",
       "      <td>4.0</td>\n",
       "    </tr>\n",
       "    <tr>\n",
       "      <th>...</th>\n",
       "      <td>...</td>\n",
       "      <td>...</td>\n",
       "    </tr>\n",
       "    <tr>\n",
       "      <th>9995</th>\n",
       "      <td>id_9995</td>\n",
       "      <td>3.0</td>\n",
       "    </tr>\n",
       "    <tr>\n",
       "      <th>9996</th>\n",
       "      <td>id_9996</td>\n",
       "      <td>1.5</td>\n",
       "    </tr>\n",
       "    <tr>\n",
       "      <th>9997</th>\n",
       "      <td>id_9997</td>\n",
       "      <td>4.5</td>\n",
       "    </tr>\n",
       "    <tr>\n",
       "      <th>9998</th>\n",
       "      <td>id_9998</td>\n",
       "      <td>1.0</td>\n",
       "    </tr>\n",
       "    <tr>\n",
       "      <th>9999</th>\n",
       "      <td>id_9999</td>\n",
       "      <td>2.5</td>\n",
       "    </tr>\n",
       "  </tbody>\n",
       "</table>\n",
       "<p>10000 rows × 2 columns</p>\n",
       "</div>"
      ],
      "text/plain": [
       "     Restaurant_id  Rating\n",
       "0             id_0     2.0\n",
       "1             id_1     2.5\n",
       "2             id_2     4.0\n",
       "3             id_3     1.0\n",
       "4             id_4     4.0\n",
       "...            ...     ...\n",
       "9995       id_9995     3.0\n",
       "9996       id_9996     1.5\n",
       "9997       id_9997     4.5\n",
       "9998       id_9998     1.0\n",
       "9999       id_9999     2.5\n",
       "\n",
       "[10000 rows x 2 columns]"
      ]
     },
     "execution_count": 69,
     "metadata": {},
     "output_type": "execute_result"
    }
   ],
   "source": [
    "sample_submission"
   ]
  },
  {
   "cell_type": "code",
   "execution_count": 70,
   "metadata": {},
   "outputs": [
    {
     "name": "stderr",
     "output_type": "stream",
     "text": [
      "[Parallel(n_jobs=4)]: Using backend ThreadingBackend with 4 concurrent workers.\n",
      "[Parallel(n_jobs=4)]: Done  42 tasks      | elapsed:    0.1s\n",
      "[Parallel(n_jobs=4)]: Done 100 out of 100 | elapsed:    0.1s finished\n"
     ]
    }
   ],
   "source": [
    "predict_submission = model.predict(test_data)"
   ]
  },
  {
   "cell_type": "code",
   "execution_count": 71,
   "metadata": {},
   "outputs": [
    {
     "data": {
      "text/plain": [
       "array([3.155, 4.28 , 4.235, ..., 3.015, 4.475, 4.22 ])"
      ]
     },
     "execution_count": 71,
     "metadata": {},
     "output_type": "execute_result"
    }
   ],
   "source": [
    "predict_submission"
   ]
  },
  {
   "cell_type": "code",
   "execution_count": 72,
   "metadata": {},
   "outputs": [
    {
     "data": {
      "text/html": [
       "<div>\n",
       "<style scoped>\n",
       "    .dataframe tbody tr th:only-of-type {\n",
       "        vertical-align: middle;\n",
       "    }\n",
       "\n",
       "    .dataframe tbody tr th {\n",
       "        vertical-align: top;\n",
       "    }\n",
       "\n",
       "    .dataframe thead th {\n",
       "        text-align: right;\n",
       "    }\n",
       "</style>\n",
       "<table border=\"1\" class=\"dataframe\">\n",
       "  <thead>\n",
       "    <tr style=\"text-align: right;\">\n",
       "      <th></th>\n",
       "      <th>Restaurant_id</th>\n",
       "      <th>Rating</th>\n",
       "    </tr>\n",
       "  </thead>\n",
       "  <tbody>\n",
       "    <tr>\n",
       "      <th>0</th>\n",
       "      <td>id_0</td>\n",
       "      <td>3.155</td>\n",
       "    </tr>\n",
       "    <tr>\n",
       "      <th>1</th>\n",
       "      <td>id_1</td>\n",
       "      <td>4.280</td>\n",
       "    </tr>\n",
       "    <tr>\n",
       "      <th>2</th>\n",
       "      <td>id_2</td>\n",
       "      <td>4.235</td>\n",
       "    </tr>\n",
       "    <tr>\n",
       "      <th>3</th>\n",
       "      <td>id_3</td>\n",
       "      <td>4.390</td>\n",
       "    </tr>\n",
       "    <tr>\n",
       "      <th>4</th>\n",
       "      <td>id_4</td>\n",
       "      <td>4.420</td>\n",
       "    </tr>\n",
       "    <tr>\n",
       "      <th>5</th>\n",
       "      <td>id_5</td>\n",
       "      <td>4.525</td>\n",
       "    </tr>\n",
       "    <tr>\n",
       "      <th>6</th>\n",
       "      <td>id_6</td>\n",
       "      <td>2.780</td>\n",
       "    </tr>\n",
       "    <tr>\n",
       "      <th>7</th>\n",
       "      <td>id_7</td>\n",
       "      <td>2.265</td>\n",
       "    </tr>\n",
       "    <tr>\n",
       "      <th>8</th>\n",
       "      <td>id_8</td>\n",
       "      <td>4.120</td>\n",
       "    </tr>\n",
       "    <tr>\n",
       "      <th>9</th>\n",
       "      <td>id_9</td>\n",
       "      <td>4.540</td>\n",
       "    </tr>\n",
       "  </tbody>\n",
       "</table>\n",
       "</div>"
      ],
      "text/plain": [
       "  Restaurant_id  Rating\n",
       "0          id_0   3.155\n",
       "1          id_1   4.280\n",
       "2          id_2   4.235\n",
       "3          id_3   4.390\n",
       "4          id_4   4.420\n",
       "5          id_5   4.525\n",
       "6          id_6   2.780\n",
       "7          id_7   2.265\n",
       "8          id_8   4.120\n",
       "9          id_9   4.540"
      ]
     },
     "execution_count": 72,
     "metadata": {},
     "output_type": "execute_result"
    }
   ],
   "source": [
    "sample_submission['Rating'] = predict_submission\n",
    "sample_submission.to_csv('submission.csv', index=False)\n",
    "sample_submission.head(10)"
   ]
  },
  {
   "cell_type": "code",
   "execution_count": null,
   "metadata": {},
   "outputs": [],
   "source": []
  }
 ],
 "metadata": {
  "kernelspec": {
   "display_name": "Python 3",
   "language": "python",
   "name": "python3"
  },
  "language_info": {
   "codemirror_mode": {
    "name": "ipython",
    "version": 3
   },
   "file_extension": ".py",
   "mimetype": "text/x-python",
   "name": "python",
   "nbconvert_exporter": "python",
   "pygments_lexer": "ipython3",
   "version": "3.6.6"
  }
 },
 "nbformat": 4,
 "nbformat_minor": 4
}
